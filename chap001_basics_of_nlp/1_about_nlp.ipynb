{
 "cells": [
  {
   "cell_type": "markdown",
   "id": "82f9c308",
   "metadata": {},
   "source": [
    "<p style=\"color:#153462; \n",
    "          font-weight: bold; \n",
    "          font-size: 30px; \n",
    "          font-family: Gill Sans, sans-serif; \n",
    "          text-align: center;\">\n",
    "          Natural Language Processing</p>"
   ]
  },
  {
   "cell_type": "markdown",
   "id": "15191a8e",
   "metadata": {},
   "source": [
    "<p style=\"text-align: justify; text-justify: inter-word;\">\n",
    "   <font size=3>\n",
    "       Natural Language Processing(NLP) is field that concerned with the ability of a computer to understand, analyze, manipulate and potentially generate human language.<br>\n",
    "       Popular applications which built using NLP are:\n",
    "       <ul>\n",
    "           <li>Email Spam filter</li>\n",
    "           <li>Auto-Complete text</li>\n",
    "           <li>Auto-Correct text</li>\n",
    "       </ul>\n",
    "   </font>\n",
    "</p>"
   ]
  },
  {
   "cell_type": "markdown",
   "id": "d8dc2b53",
   "metadata": {},
   "source": [
    "<p style=\"text-align: justify; text-justify: inter-word;\">\n",
    "   <font size=3>\n",
    "\tNLP encompress many topics:\n",
    "        <ul>\n",
    "            <li>Sentiment Analysis</li>\n",
    "            <li>Topic Modeling</li>\n",
    "            <li>Text Classification</li>\n",
    "            <li>Sentence Segmentation or Part-of-speech tagging</li>\n",
    "        </ul>\n",
    "   </font>\n",
    "</p>"
   ]
  },
  {
   "cell_type": "markdown",
   "id": "163e64a2",
   "metadata": {},
   "source": [
    "<p style=\"color:#3C4048; \n",
    "          font-weight: bold; \n",
    "          font-size: 18px; \n",
    "          font-family: Gill Sans, sans-serif;\">\n",
    "          Installing Natural Language Tool Kit(NLTK) and NLP Data:</p>"
   ]
  },
  {
   "cell_type": "markdown",
   "id": "9d21619d",
   "metadata": {},
   "source": [
    "<p style=\"text-align: justify; text-justify: inter-word;\">\n",
    "   <font size=3>\n",
    "\tTo install latest NLTK package you have to use <code>pip install nltk</code> command. After installing the NLTK package, please do install the necessary datasets/models for specific functions to work.\n",
    "\n",
    "If you’re unsure of which datasets/models you’ll need, you can install the “popular” subset of NLTK data, on the command line type <code>python -m nltk.downloader popular</code>, or in the Python interpreter <code>import nltk; nltk.download('popular')</code>\n",
    "   </font>\n",
    "</p>\n"
   ]
  },
  {
   "cell_type": "code",
   "execution_count": 5,
   "id": "8c4b56bc",
   "metadata": {},
   "outputs": [],
   "source": [
    "import nltk"
   ]
  },
  {
   "cell_type": "code",
   "execution_count": 7,
   "id": "076ba425",
   "metadata": {},
   "outputs": [
    {
     "data": {
      "text/plain": [
       "['ARLSTem',\n",
       " 'ARLSTem2',\n",
       " 'AbstractLazySequence',\n",
       " 'AffixTagger',\n",
       " 'AlignedSent',\n",
       " 'Alignment',\n",
       " 'AnnotationTask',\n",
       " 'ApplicationExpression',\n",
       " 'Assignment',\n",
       " 'BigramAssocMeasures']"
      ]
     },
     "execution_count": 7,
     "metadata": {},
     "output_type": "execute_result"
    }
   ],
   "source": [
    "dir(nltk)[:10]"
   ]
  },
  {
   "cell_type": "code",
   "execution_count": null,
   "id": "10e779c8",
   "metadata": {},
   "outputs": [],
   "source": []
  }
 ],
 "metadata": {
  "kernelspec": {
   "display_name": "Python 3 (ipykernel)",
   "language": "python",
   "name": "python3"
  },
  "language_info": {
   "codemirror_mode": {
    "name": "ipython",
    "version": 3
   },
   "file_extension": ".py",
   "mimetype": "text/x-python",
   "name": "python",
   "nbconvert_exporter": "python",
   "pygments_lexer": "ipython3",
   "version": "3.11.2"
  }
 },
 "nbformat": 4,
 "nbformat_minor": 5
}
