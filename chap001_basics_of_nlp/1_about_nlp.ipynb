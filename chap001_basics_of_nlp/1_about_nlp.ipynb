{
 "cells": [
  {
   "cell_type": "markdown",
   "id": "82f9c308",
   "metadata": {},
   "source": [
    "<p style=\"color:#153462; \n",
    "          font-weight: bold; \n",
    "          font-size: 30px; \n",
    "          font-family: Gill Sans, sans-serif; \n",
    "          text-align: center;\">\n",
    "          Natural Language Processing</p>"
   ]
  },
  {
   "cell_type": "markdown",
   "id": "15191a8e",
   "metadata": {},
   "source": [
    "<p style=\"text-align: justify; text-justify: inter-word;\">\n",
    "   <font size=3>\n",
    "       Natural Language Processing(NLP) is field that concerned with the ability of a computer to understand, analyze, manipulate and potentially generate human language.<br>\n",
    "       Popular applications which built using NLP are:\n",
    "       <ul>\n",
    "           <li>Email Spam filter</li>\n",
    "           <li>Auto-Complete text</li>\n",
    "           <li>Auto-Correct text</li>\n",
    "       </ul>\n",
    "   </font>\n",
    "</p>"
   ]
  },
  {
   "cell_type": "markdown",
   "id": "d8dc2b53",
   "metadata": {},
   "source": [
    "<p style=\"text-align: justify; text-justify: inter-word;\">\n",
    "   <font size=3>\n",
    "\tNLP encompress many topics:\n",
    "        <ul>\n",
    "            <li>Sentiment Analysis</li>\n",
    "            <li>Topic Modeling</li>\n",
    "            <li>Text Classification</li>\n",
    "            <li>Sentence Segmentation or Part-of-speech tagging</li>\n",
    "        </ul>\n",
    "   </font>\n",
    "</p>"
   ]
  },
  {
   "cell_type": "code",
   "execution_count": null,
   "id": "37c21fab",
   "metadata": {},
   "outputs": [],
   "source": []
  }
 ],
 "metadata": {
  "kernelspec": {
   "display_name": "Python 3 (ipykernel)",
   "language": "python",
   "name": "python3"
  },
  "language_info": {
   "codemirror_mode": {
    "name": "ipython",
    "version": 3
   },
   "file_extension": ".py",
   "mimetype": "text/x-python",
   "name": "python",
   "nbconvert_exporter": "python",
   "pygments_lexer": "ipython3",
   "version": "3.10.2"
  }
 },
 "nbformat": 4,
 "nbformat_minor": 5
}
