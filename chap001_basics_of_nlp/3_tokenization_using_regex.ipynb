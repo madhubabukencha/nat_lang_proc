{
 "cells": [
  {
   "cell_type": "markdown",
   "id": "0a77a8cc",
   "metadata": {},
   "source": [
    "<p style=\"color:#153462; \n",
    "          font-weight: bold; \n",
    "          font-size: 30px; \n",
    "          font-family: Gill Sans, sans-serif; \n",
    "          text-align: center;\">\n",
    "          Tokenization Using Regex</p>"
   ]
  },
  {
   "cell_type": "markdown",
   "id": "7b24cb81-e9f5-446d-abfd-1098ffc52b03",
   "metadata": {},
   "source": [
    "### Imports and Declarations"
   ]
  },
  {
   "cell_type": "code",
   "execution_count": 4,
   "id": "6f8d9b98",
   "metadata": {
    "tags": []
   },
   "outputs": [],
   "source": [
    "import re"
   ]
  },
  {
   "cell_type": "markdown",
   "id": "f77b5376-6af7-4815-99de-e986adeecdd0",
   "metadata": {},
   "source": [
    "Below are some special sequence characters and their examples:\n",
    "<table style=\"margin-right: auto; border: 1px solid black;\">\n",
    "    <tr style=\"border: 1px solid black;\">\n",
    "        <td style=\"border: 1px solid black;\">\\s</td>\n",
    "        <td style=\"border: 1px solid black;\">Returns a match where the string contains a white space character</td>\n",
    "    </tr>\n",
    "    <tr style=\"border: 1px solid black;\">\n",
    "        <td style=\"border: 1px solid black;\">\\S</td>\n",
    "        <td style=\"border: 1px solid black;\">Returns a match where the string DOES NOT contain a white space character</td>\n",
    "    </tr>\n",
    "    <tr style=\"border: 1px solid black;\">\n",
    "        <td style=\"border: 1px solid black;\">\\w</td>\n",
    "        <td style=\"border: 1px solid black;\">Returns a match where the string contains any word characters (characters from a to Z, digits from 0-9, and the underscore _ character)</td>\n",
    "    </tr>\n",
    "    <tr style=\"border: 1px solid black;\">\n",
    "        <td style=\"border: 1px solid black;\">\\W</td>\n",
    "        <td style=\"border: 1px solid black;\">Returns a match where the string DOES NOT contain any word characters</td>\n",
    "    </tr>\n",
    "</table>"
   ]
  },
  {
   "cell_type": "code",
   "execution_count": 5,
   "id": "e94a235d",
   "metadata": {
    "tags": []
   },
   "outputs": [],
   "source": [
    "text_1 = \"I love technology like I love my soul 🤣\"\n",
    "text_2 = \"I     love technology          like I love           my   soul     🤣\"\n",
    "text_3 = \"I--love?technology----Live>>>I***Love)))my&&soul 🤣\""
   ]
  },
  {
   "cell_type": "markdown",
   "id": "c906abd3-148a-4e99-ad8e-269a74c4eea3",
   "metadata": {},
   "source": [
    "### Tokenizing using re.split method"
   ]
  },
  {
   "cell_type": "code",
   "execution_count": 6,
   "id": "25534a3a",
   "metadata": {
    "tags": []
   },
   "outputs": [
    {
     "data": {
      "text/plain": [
       "['I', 'love', 'technology', 'like', 'I', 'love', 'my', 'soul', '🤣']"
      ]
     },
     "execution_count": 6,
     "metadata": {},
     "output_type": "execute_result"
    }
   ],
   "source": [
    "re.split(\"\\s\", text_1)"
   ]
  },
  {
   "cell_type": "code",
   "execution_count": 7,
   "id": "00408d50",
   "metadata": {
    "tags": []
   },
   "outputs": [
    {
     "data": {
      "text/plain": [
       "['I', 'love', 'technology', 'like', 'I', 'love', 'my', 'soul', '🤣']"
      ]
     },
     "execution_count": 7,
     "metadata": {},
     "output_type": "execute_result"
    }
   ],
   "source": [
    "# Adding plus(+) sign to \"s\" to match multiple spaces\n",
    "re.split(\"\\s+\", text_2)"
   ]
  },
  {
   "cell_type": "code",
   "execution_count": 8,
   "id": "c7969603",
   "metadata": {
    "tags": []
   },
   "outputs": [
    {
     "data": {
      "text/plain": [
       "['I', 'love', 'technology', 'Live', 'I', 'Love', 'my', 'soul', '', '']"
      ]
     },
     "execution_count": 8,
     "metadata": {},
     "output_type": "execute_result"
    }
   ],
   "source": [
    "# Face symbol not belongs to [a-zA-Z0-9_]\n",
    "re.split(\"\\s+|\\W+\", text_3)"
   ]
  },
  {
   "cell_type": "markdown",
   "id": "436a1c89-434e-4db1-9f58-c724428890da",
   "metadata": {
    "tags": []
   },
   "source": [
    "### Tokenizing using re.find method"
   ]
  },
  {
   "cell_type": "code",
   "execution_count": 9,
   "id": "9551b0c0",
   "metadata": {
    "tags": []
   },
   "outputs": [
    {
     "data": {
      "text/plain": [
       "['I', 'love', 'technology', 'like', 'I', 'love', 'my', 'soul', '🤣']"
      ]
     },
     "execution_count": 9,
     "metadata": {},
     "output_type": "execute_result"
    }
   ],
   "source": [
    "# Finding other than white spaces\n",
    "re.findall(\"\\S+\", text_1)"
   ]
  },
  {
   "cell_type": "code",
   "execution_count": 10,
   "id": "104b4b8b",
   "metadata": {
    "tags": []
   },
   "outputs": [
    {
     "data": {
      "text/plain": [
       "['I', 'love', 'technology', 'like', 'I', 'love', 'my', 'soul', '🤣']"
      ]
     },
     "execution_count": 10,
     "metadata": {},
     "output_type": "execute_result"
    }
   ],
   "source": [
    "re.findall(\"\\S+\", text_2)"
   ]
  },
  {
   "cell_type": "code",
   "execution_count": 11,
   "id": "a9ac4373",
   "metadata": {
    "tags": []
   },
   "outputs": [
    {
     "data": {
      "text/plain": [
       "['I', 'love', 'technology', 'like', 'I', 'love', 'my', 'soul', '🤣']"
      ]
     },
     "execution_count": 11,
     "metadata": {},
     "output_type": "execute_result"
    }
   ],
   "source": [
    "re.findall(\"\\S+|\\w+\", text_2)"
   ]
  },
  {
   "cell_type": "markdown",
   "id": "9a5f0aa3-864e-4870-91c8-9a7517a58f92",
   "metadata": {
    "tags": []
   },
   "source": [
    "### Other Important Regex Methods"
   ]
  },
  {
   "cell_type": "code",
   "execution_count": 19,
   "id": "3113a7c9-fbeb-4392-ab41-038969a47c54",
   "metadata": {
    "tags": []
   },
   "outputs": [
    {
     "data": {
      "text/plain": [
       "'Python states style info in Python Enhancement Proposal-8 (PEP8)'"
      ]
     },
     "execution_count": 19,
     "metadata": {},
     "output_type": "execute_result"
    }
   ],
   "source": [
    "# Substitude is used to replace some part of text.\n",
    "text = \"Python states style info in PEP8\"\n",
    "# Replace PEP8 with Python Enhancement Proposal 8(PEP8)\n",
    "re.sub(\"[A-Z]+[1-9]+\", \"Python Enhancement Proposal-8 (PEP8)\", text)"
   ]
  },
  {
   "cell_type": "markdown",
   "id": "b13d9835-a0bc-405c-9579-c21521621128",
   "metadata": {},
   "source": [
    "<p style=\"text-align: justify; text-justify: inter-word;\">\n",
    "   <font size=3>\n",
    "       Some other regex methods are:\n",
    "       <ul>\n",
    "           <li>re.search</li>\n",
    "           <li>re.match</li>\n",
    "           <li>re.fullmatch</li>\n",
    "           <li>re.finditer</li>\n",
    "           <li>re.escape</li>\n",
    "       </ul>\n",
    "   </font>\n",
    "</p>"
   ]
  },
  {
   "cell_type": "code",
   "execution_count": null,
   "id": "185817d2-5bc0-4b79-a4bb-f7249d342171",
   "metadata": {},
   "outputs": [],
   "source": []
  }
 ],
 "metadata": {
  "kernelspec": {
   "display_name": "Python 3 (ipykernel)",
   "language": "python",
   "name": "python3"
  },
  "language_info": {
   "codemirror_mode": {
    "name": "ipython",
    "version": 3
   },
   "file_extension": ".py",
   "mimetype": "text/x-python",
   "name": "python",
   "nbconvert_exporter": "python",
   "pygments_lexer": "ipython3",
   "version": "3.11.2"
  },
  "toc-showmarkdowntxt": false
 },
 "nbformat": 4,
 "nbformat_minor": 5
}
