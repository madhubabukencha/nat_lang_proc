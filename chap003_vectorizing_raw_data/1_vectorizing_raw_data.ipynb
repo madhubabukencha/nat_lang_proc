{
 "cells": [
  {
   "cell_type": "markdown",
   "id": "73c63b62-7987-4011-8ee2-d8894ad77bad",
   "metadata": {},
   "source": [
    "<p style=\"color:#153462; \n",
    "          font-weight: bold; \n",
    "          font-size: 30px; \n",
    "          font-family: Gill Sans, sans-serif; \n",
    "          text-align: center;\">\n",
    "          Vectorizing Raw Data</p>"
   ]
  },
  {
   "cell_type": "markdown",
   "id": "f4b101f6-1ad2-4df7-9b3e-e287e408a397",
   "metadata": {},
   "source": [
    "<p style=\"text-align: justify; text-justify: inter-word;\">\n",
    "   <font size=3>\n",
    "       Vectorization is the process of coding text as integers to create <b>feature vectors</b>. A feature vector is a n-dimentional vector of numerical features that represent some object. We need to convert raw text data into numbers so that Python and the algorithms used for Machine Learning can understand.\n",
    "   </font>\n",
    "</p>"
   ]
  },
  {
   "cell_type": "markdown",
   "id": "c43e5dbb-0b1d-4a5e-ba0d-3e1bea0ca059",
   "metadata": {},
   "source": [
    "<p style=\"text-align: justify; text-justify: inter-word;\">\n",
    "   <font size=3>\n",
    "    A document-term matrix is a mathematical matrix that describes the frequency of terms that occur in a collection of documents. In a document-term matrix, rows correspond to documents in the collection and columns correspond to terms. It is also common to encounter the transpose, or term-document matrix where documents are the columns and terms are the rows. They are useful in the field of natural language processing and computational text analysis.\n",
    "   </font>\n",
    "</p>"
   ]
  },
  {
   "cell_type": "markdown",
   "id": "b8082af8-6eb7-4142-81ab-15ba1cd8621e",
   "metadata": {},
   "source": [
    "<p style=\"text-align: justify; text-justify: inter-word;\">\n",
    "   <font size=3>\n",
    "       Below are the kind of schemes that we can use to create a document-term matrix,\n",
    "       <ul>\n",
    "           <li> Count Vectorization </li>\n",
    "           <li> N-grams</li>\n",
    "           <li> Term Frequency- Inverse Document Frequency(TF-IDF)</li>\n",
    "       </ul>\n",
    "   </font>\n",
    "</p>"
   ]
  },
  {
   "cell_type": "code",
   "execution_count": null,
   "id": "cb432e99-8bd2-4e93-9a00-f78f9b5e8dc4",
   "metadata": {},
   "outputs": [],
   "source": []
  }
 ],
 "metadata": {
  "kernelspec": {
   "display_name": "Python 3 (ipykernel)",
   "language": "python",
   "name": "python3"
  },
  "language_info": {
   "codemirror_mode": {
    "name": "ipython",
    "version": 3
   },
   "file_extension": ".py",
   "mimetype": "text/x-python",
   "name": "python",
   "nbconvert_exporter": "python",
   "pygments_lexer": "ipython3",
   "version": "3.11.2"
  }
 },
 "nbformat": 4,
 "nbformat_minor": 5
}
