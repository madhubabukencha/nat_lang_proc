{
 "cells": [
  {
   "cell_type": "markdown",
   "id": "c2682a7a-14d0-42f3-8217-d8a0acd6c170",
   "metadata": {},
   "source": [
    "<p style=\"color:#153462; \n",
    "          font-weight: bold; \n",
    "          font-size: 30px; \n",
    "          font-family: Gill Sans, sans-serif; \n",
    "          text-align: center;\">\n",
    "          Model Selection</p>"
   ]
  },
  {
   "cell_type": "markdown",
   "id": "743d6182-6d1a-40fc-8bfa-060dcde09024",
   "metadata": {},
   "source": [
    "### objective\n",
    "<p style=\"text-align: justify; text-justify: inter-word;\">\n",
    "   <font size=3>\n",
    "       <ul>\n",
    "           <li>Split the data into training and test sets</li>\n",
    "           <li>Train vectorizer on training set and use it transform test set</li>\n",
    "           <li>Fit best Random Forest and Gradient Boosting model on training set and predict on test set</li>\n",
    "           <li>Thoroughly evaluate results of these two models to select best model</li>\n",
    "       </ul>\n",
    "   </font>\n",
    "</p>"
   ]
  },
  {
   "cell_type": "code",
   "execution_count": 37,
   "id": "0c0daaca-b7c9-4277-9da5-7c6a34109ca0",
   "metadata": {
    "tags": []
   },
   "outputs": [],
   "source": [
    "import pandas as pd\n",
    "import string\n",
    "import re\n",
    "import nltk\n",
    "from sklearn.model_selection import train_test_split\n",
    "from sklearn.feature_extraction.text import TfidfVectorizer\n",
    "from sklearn.ensemble import RandomForestClassifier, GradientBoostingClassifier\n",
    "from sklearn.metrics import precision_recall_fscore_support as score\n",
    "import time"
   ]
  },
  {
   "cell_type": "code",
   "execution_count": 25,
   "id": "1c6dfeff-fe80-4d8b-ae66-4dab97c1cbe3",
   "metadata": {
    "tags": []
   },
   "outputs": [
    {
     "data": {
      "text/html": [
       "<div>\n",
       "<style scoped>\n",
       "    .dataframe tbody tr th:only-of-type {\n",
       "        vertical-align: middle;\n",
       "    }\n",
       "\n",
       "    .dataframe tbody tr th {\n",
       "        vertical-align: top;\n",
       "    }\n",
       "\n",
       "    .dataframe thead th {\n",
       "        text-align: right;\n",
       "    }\n",
       "</style>\n",
       "<table border=\"1\" class=\"dataframe\">\n",
       "  <thead>\n",
       "    <tr style=\"text-align: right;\">\n",
       "      <th></th>\n",
       "      <th>labels</th>\n",
       "      <th>body_text</th>\n",
       "      <th>body_len</th>\n",
       "      <th>punct%</th>\n",
       "    </tr>\n",
       "  </thead>\n",
       "  <tbody>\n",
       "    <tr>\n",
       "      <th>0</th>\n",
       "      <td>ham</td>\n",
       "      <td>I've been searching for the right words to tha...</td>\n",
       "      <td>160</td>\n",
       "      <td>2.5</td>\n",
       "    </tr>\n",
       "    <tr>\n",
       "      <th>1</th>\n",
       "      <td>spam</td>\n",
       "      <td>Free entry in 2 a wkly comp to win FA Cup fina...</td>\n",
       "      <td>128</td>\n",
       "      <td>4.7</td>\n",
       "    </tr>\n",
       "    <tr>\n",
       "      <th>2</th>\n",
       "      <td>ham</td>\n",
       "      <td>Nah I don't think he goes to usf, he lives aro...</td>\n",
       "      <td>49</td>\n",
       "      <td>4.1</td>\n",
       "    </tr>\n",
       "    <tr>\n",
       "      <th>3</th>\n",
       "      <td>ham</td>\n",
       "      <td>Even my brother is not like to speak with me. ...</td>\n",
       "      <td>62</td>\n",
       "      <td>3.2</td>\n",
       "    </tr>\n",
       "    <tr>\n",
       "      <th>4</th>\n",
       "      <td>ham</td>\n",
       "      <td>I HAVE A DATE ON SUNDAY WITH WILL!!</td>\n",
       "      <td>28</td>\n",
       "      <td>7.1</td>\n",
       "    </tr>\n",
       "  </tbody>\n",
       "</table>\n",
       "</div>"
      ],
      "text/plain": [
       "  labels                                          body_text  body_len  punct%\n",
       "0    ham  I've been searching for the right words to tha...       160     2.5\n",
       "1   spam  Free entry in 2 a wkly comp to win FA Cup fina...       128     4.7\n",
       "2    ham  Nah I don't think he goes to usf, he lives aro...        49     4.1\n",
       "3    ham  Even my brother is not like to speak with me. ...        62     3.2\n",
       "4    ham                I HAVE A DATE ON SUNDAY WITH WILL!!        28     7.1"
      ]
     },
     "execution_count": 25,
     "metadata": {},
     "output_type": "execute_result"
    }
   ],
   "source": [
    "nltk.data.path.append(r\"D:\\Artificial_Intelligence\\nat_lang_proc\\nltk_data\")\n",
    "stopwords = nltk.corpus.stopwords.words(\"english\")\n",
    "ps = nltk.PorterStemmer()\n",
    "\n",
    "data_df = pd.read_csv(r\"D:/Artificial_Intelligence/nat_lang_proc/data/SMSSpamCollection.tsv\", \n",
    "                      delimiter=\"\\t\", \n",
    "                      header=None)\n",
    "data_df.columns = [\"labels\", \"body_text\"]\n",
    "\n",
    "# Adding two new features\n",
    "def count_punct(text):\n",
    "    count = sum([1 for char in text if char in string.punctuation])\n",
    "    return round(count/(len(text)-text.count(\" \")), 3)*100\n",
    "\n",
    "data_df[\"body_len\"] = data_df[\"body_text\"].apply(lambda x:len(x) - x.count(\" \"))\n",
    "data_df[\"punct%\"] = data_df[\"body_text\"].apply(lambda x: count_punct(x))\n",
    "data_df.head()"
   ]
  },
  {
   "cell_type": "code",
   "execution_count": 26,
   "id": "25b14a04-35db-49f2-bb03-9ff29c6d1cd1",
   "metadata": {
    "tags": []
   },
   "outputs": [],
   "source": [
    "# Cleaning and Vectorizing the data using TF-IDF vectorizer\n",
    "def clean_data(text):\n",
    "    without_punc = \"\".join([char.lower() for char in text if char not in string.punctuation])\n",
    "    tokenzied_text = re.findall(\"\\w+\", without_punc)\n",
    "    stemmed_tokens = [ps.stem(word) for word in tokenzied_text if word not in stopwords]\n",
    "    return stemmed_tokens"
   ]
  },
  {
   "cell_type": "markdown",
   "id": "5608a645-e791-47ef-bfdd-76ae6d6ed25c",
   "metadata": {},
   "source": [
    "### Vectorizing the Text"
   ]
  },
  {
   "cell_type": "code",
   "execution_count": 27,
   "id": "3c28a358-18f2-492c-9473-79c29d011238",
   "metadata": {
    "tags": []
   },
   "outputs": [],
   "source": [
    "X_train, X_test, y_train, y_test = train_test_split(data_df[[\"body_text\", \"body_len\", \"punct%\"]],\n",
    "                                                    data_df[\"labels\"],\n",
    "                                                    test_size=0.2)"
   ]
  },
  {
   "cell_type": "code",
   "execution_count": 28,
   "id": "245c594d-1549-41ad-bdc1-83ed165243cb",
   "metadata": {
    "tags": []
   },
   "outputs": [],
   "source": [
    "tfidf_vect = TfidfVectorizer(analyzer=clean_data)\n",
    "tfidf_vect_fit = tfidf_vect.fit(X_train[\"body_text\"])"
   ]
  },
  {
   "cell_type": "code",
   "execution_count": 29,
   "id": "ae5d0e36-7a29-45c6-9dfd-ee01c87c7d5a",
   "metadata": {
    "tags": []
   },
   "outputs": [],
   "source": [
    "tfidf_train = tfidf_vect_fit.transform(X_train[\"body_text\"])\n",
    "tfidf_test = tfidf_vect_fit.transform(X_test[\"body_text\"])"
   ]
  },
  {
   "cell_type": "code",
   "execution_count": 30,
   "id": "2d643745-1e27-454e-bf84-8e8cea419397",
   "metadata": {
    "tags": []
   },
   "outputs": [
    {
     "data": {
      "text/plain": [
       "<4454x7123 sparse matrix of type '<class 'numpy.float64'>'\n",
       "\twith 39819 stored elements in Compressed Sparse Row format>"
      ]
     },
     "execution_count": 30,
     "metadata": {},
     "output_type": "execute_result"
    }
   ],
   "source": [
    "tfidf_train"
   ]
  },
  {
   "cell_type": "code",
   "execution_count": 31,
   "id": "ca9d24cc-6cfa-417a-b2bf-1a2360edcf72",
   "metadata": {
    "tags": []
   },
   "outputs": [
    {
     "data": {
      "text/plain": [
       "<1114x7123 sparse matrix of type '<class 'numpy.float64'>'\n",
       "\twith 8875 stored elements in Compressed Sparse Row format>"
      ]
     },
     "execution_count": 31,
     "metadata": {},
     "output_type": "execute_result"
    }
   ],
   "source": [
    "tfidf_test"
   ]
  },
  {
   "cell_type": "markdown",
   "id": "d0e31b3a-d8e5-44dd-8cf1-5a720429d1e3",
   "metadata": {},
   "source": [
    "<p style=\"text-align: justify; text-justify: inter-word;\">\n",
    "   <font size=3>\n",
    "       <code>tfidf_train</code> and <code>tfidf_test</code> will have same number of columns. Because they\n",
    "       both transformed using <code>tfidf_vect_fit</code> that was trained on the training set. So it only\n",
    "       recongnizes word in the training set and can only create columns for words from the training set.\n",
    "   </font>\n",
    "</p>"
   ]
  },
  {
   "cell_type": "code",
   "execution_count": 44,
   "id": "03a5dec5-b25f-4db5-b3ea-062add815772",
   "metadata": {
    "tags": []
   },
   "outputs": [
    {
     "data": {
      "text/html": [
       "<div>\n",
       "<style scoped>\n",
       "    .dataframe tbody tr th:only-of-type {\n",
       "        vertical-align: middle;\n",
       "    }\n",
       "\n",
       "    .dataframe tbody tr th {\n",
       "        vertical-align: top;\n",
       "    }\n",
       "\n",
       "    .dataframe thead th {\n",
       "        text-align: right;\n",
       "    }\n",
       "</style>\n",
       "<table border=\"1\" class=\"dataframe\">\n",
       "  <thead>\n",
       "    <tr style=\"text-align: right;\">\n",
       "      <th></th>\n",
       "      <th>body_len</th>\n",
       "      <th>punct%</th>\n",
       "      <th>0</th>\n",
       "      <th>008704050406</th>\n",
       "      <th>0089mi</th>\n",
       "      <th>01223585236</th>\n",
       "      <th>01223585334</th>\n",
       "      <th>0125698789</th>\n",
       "      <th>02</th>\n",
       "      <th>020603</th>\n",
       "      <th>...</th>\n",
       "      <th>zed</th>\n",
       "      <th>zero</th>\n",
       "      <th>zindgi</th>\n",
       "      <th>zoe</th>\n",
       "      <th>zogtoriu</th>\n",
       "      <th>zoom</th>\n",
       "      <th>zyada</th>\n",
       "      <th>é</th>\n",
       "      <th>ü</th>\n",
       "      <th>üll</th>\n",
       "    </tr>\n",
       "  </thead>\n",
       "  <tbody>\n",
       "    <tr>\n",
       "      <th>0</th>\n",
       "      <td>133</td>\n",
       "      <td>3.8</td>\n",
       "      <td>0.0</td>\n",
       "      <td>0.0</td>\n",
       "      <td>0.0</td>\n",
       "      <td>0.0</td>\n",
       "      <td>0.0</td>\n",
       "      <td>0.0</td>\n",
       "      <td>0.0</td>\n",
       "      <td>0.0</td>\n",
       "      <td>...</td>\n",
       "      <td>0.0</td>\n",
       "      <td>0.0</td>\n",
       "      <td>0.0</td>\n",
       "      <td>0.0</td>\n",
       "      <td>0.0</td>\n",
       "      <td>0.0</td>\n",
       "      <td>0.0</td>\n",
       "      <td>0.0</td>\n",
       "      <td>0.000000</td>\n",
       "      <td>0.0</td>\n",
       "    </tr>\n",
       "    <tr>\n",
       "      <th>1</th>\n",
       "      <td>25</td>\n",
       "      <td>0.0</td>\n",
       "      <td>0.0</td>\n",
       "      <td>0.0</td>\n",
       "      <td>0.0</td>\n",
       "      <td>0.0</td>\n",
       "      <td>0.0</td>\n",
       "      <td>0.0</td>\n",
       "      <td>0.0</td>\n",
       "      <td>0.0</td>\n",
       "      <td>...</td>\n",
       "      <td>0.0</td>\n",
       "      <td>0.0</td>\n",
       "      <td>0.0</td>\n",
       "      <td>0.0</td>\n",
       "      <td>0.0</td>\n",
       "      <td>0.0</td>\n",
       "      <td>0.0</td>\n",
       "      <td>0.0</td>\n",
       "      <td>0.000000</td>\n",
       "      <td>0.0</td>\n",
       "    </tr>\n",
       "    <tr>\n",
       "      <th>2</th>\n",
       "      <td>19</td>\n",
       "      <td>5.3</td>\n",
       "      <td>0.0</td>\n",
       "      <td>0.0</td>\n",
       "      <td>0.0</td>\n",
       "      <td>0.0</td>\n",
       "      <td>0.0</td>\n",
       "      <td>0.0</td>\n",
       "      <td>0.0</td>\n",
       "      <td>0.0</td>\n",
       "      <td>...</td>\n",
       "      <td>0.0</td>\n",
       "      <td>0.0</td>\n",
       "      <td>0.0</td>\n",
       "      <td>0.0</td>\n",
       "      <td>0.0</td>\n",
       "      <td>0.0</td>\n",
       "      <td>0.0</td>\n",
       "      <td>0.0</td>\n",
       "      <td>0.379866</td>\n",
       "      <td>0.0</td>\n",
       "    </tr>\n",
       "    <tr>\n",
       "      <th>3</th>\n",
       "      <td>93</td>\n",
       "      <td>1.1</td>\n",
       "      <td>0.0</td>\n",
       "      <td>0.0</td>\n",
       "      <td>0.0</td>\n",
       "      <td>0.0</td>\n",
       "      <td>0.0</td>\n",
       "      <td>0.0</td>\n",
       "      <td>0.0</td>\n",
       "      <td>0.0</td>\n",
       "      <td>...</td>\n",
       "      <td>0.0</td>\n",
       "      <td>0.0</td>\n",
       "      <td>0.0</td>\n",
       "      <td>0.0</td>\n",
       "      <td>0.0</td>\n",
       "      <td>0.0</td>\n",
       "      <td>0.0</td>\n",
       "      <td>0.0</td>\n",
       "      <td>0.000000</td>\n",
       "      <td>0.0</td>\n",
       "    </tr>\n",
       "    <tr>\n",
       "      <th>4</th>\n",
       "      <td>27</td>\n",
       "      <td>25.9</td>\n",
       "      <td>0.0</td>\n",
       "      <td>0.0</td>\n",
       "      <td>0.0</td>\n",
       "      <td>0.0</td>\n",
       "      <td>0.0</td>\n",
       "      <td>0.0</td>\n",
       "      <td>0.0</td>\n",
       "      <td>0.0</td>\n",
       "      <td>...</td>\n",
       "      <td>0.0</td>\n",
       "      <td>0.0</td>\n",
       "      <td>0.0</td>\n",
       "      <td>0.0</td>\n",
       "      <td>0.0</td>\n",
       "      <td>0.0</td>\n",
       "      <td>0.0</td>\n",
       "      <td>0.0</td>\n",
       "      <td>0.000000</td>\n",
       "      <td>0.0</td>\n",
       "    </tr>\n",
       "  </tbody>\n",
       "</table>\n",
       "<p>5 rows × 7125 columns</p>\n",
       "</div>"
      ],
      "text/plain": [
       "   body_len  punct%    0  008704050406  0089mi  01223585236  01223585334   \n",
       "0       133     3.8  0.0           0.0     0.0          0.0          0.0  \\\n",
       "1        25     0.0  0.0           0.0     0.0          0.0          0.0   \n",
       "2        19     5.3  0.0           0.0     0.0          0.0          0.0   \n",
       "3        93     1.1  0.0           0.0     0.0          0.0          0.0   \n",
       "4        27    25.9  0.0           0.0     0.0          0.0          0.0   \n",
       "\n",
       "   0125698789   02  020603  ...  zed  zero  zindgi  zoe  zogtoriu  zoom   \n",
       "0         0.0  0.0     0.0  ...  0.0   0.0     0.0  0.0       0.0   0.0  \\\n",
       "1         0.0  0.0     0.0  ...  0.0   0.0     0.0  0.0       0.0   0.0   \n",
       "2         0.0  0.0     0.0  ...  0.0   0.0     0.0  0.0       0.0   0.0   \n",
       "3         0.0  0.0     0.0  ...  0.0   0.0     0.0  0.0       0.0   0.0   \n",
       "4         0.0  0.0     0.0  ...  0.0   0.0     0.0  0.0       0.0   0.0   \n",
       "\n",
       "   zyada    é         ü  üll  \n",
       "0    0.0  0.0  0.000000  0.0  \n",
       "1    0.0  0.0  0.000000  0.0  \n",
       "2    0.0  0.0  0.379866  0.0  \n",
       "3    0.0  0.0  0.000000  0.0  \n",
       "4    0.0  0.0  0.000000  0.0  \n",
       "\n",
       "[5 rows x 7125 columns]"
      ]
     },
     "execution_count": 44,
     "metadata": {},
     "output_type": "execute_result"
    }
   ],
   "source": [
    "X_train_vect_df = pd.DataFrame(tfidf_train.toarray())\n",
    "X_train_vect_df.columns = tfidf_vect.get_feature_names_out()\n",
    "                               \n",
    "X_train_vect = pd.concat([X_train[[\"body_len\", \"punct%\"]].reset_index(drop=True), X_train_vect_df], axis=1)\n",
    "X_train_vect.head()"
   ]
  },
  {
   "cell_type": "code",
   "execution_count": 45,
   "id": "28672589-1aa2-424a-aab1-eefefa383b4c",
   "metadata": {
    "tags": []
   },
   "outputs": [
    {
     "data": {
      "text/html": [
       "<div>\n",
       "<style scoped>\n",
       "    .dataframe tbody tr th:only-of-type {\n",
       "        vertical-align: middle;\n",
       "    }\n",
       "\n",
       "    .dataframe tbody tr th {\n",
       "        vertical-align: top;\n",
       "    }\n",
       "\n",
       "    .dataframe thead th {\n",
       "        text-align: right;\n",
       "    }\n",
       "</style>\n",
       "<table border=\"1\" class=\"dataframe\">\n",
       "  <thead>\n",
       "    <tr style=\"text-align: right;\">\n",
       "      <th></th>\n",
       "      <th>body_len</th>\n",
       "      <th>punct%</th>\n",
       "      <th>0</th>\n",
       "      <th>008704050406</th>\n",
       "      <th>0089mi</th>\n",
       "      <th>01223585236</th>\n",
       "      <th>01223585334</th>\n",
       "      <th>0125698789</th>\n",
       "      <th>02</th>\n",
       "      <th>020603</th>\n",
       "      <th>...</th>\n",
       "      <th>zed</th>\n",
       "      <th>zero</th>\n",
       "      <th>zindgi</th>\n",
       "      <th>zoe</th>\n",
       "      <th>zogtoriu</th>\n",
       "      <th>zoom</th>\n",
       "      <th>zyada</th>\n",
       "      <th>é</th>\n",
       "      <th>ü</th>\n",
       "      <th>üll</th>\n",
       "    </tr>\n",
       "  </thead>\n",
       "  <tbody>\n",
       "    <tr>\n",
       "      <th>0</th>\n",
       "      <td>39</td>\n",
       "      <td>5.1</td>\n",
       "      <td>0.0</td>\n",
       "      <td>0.0</td>\n",
       "      <td>0.0</td>\n",
       "      <td>0.0</td>\n",
       "      <td>0.0</td>\n",
       "      <td>0.0</td>\n",
       "      <td>0.0</td>\n",
       "      <td>0.0</td>\n",
       "      <td>...</td>\n",
       "      <td>0.0</td>\n",
       "      <td>0.0</td>\n",
       "      <td>0.0</td>\n",
       "      <td>0.0</td>\n",
       "      <td>0.0</td>\n",
       "      <td>0.0</td>\n",
       "      <td>0.0</td>\n",
       "      <td>0.0</td>\n",
       "      <td>0.0</td>\n",
       "      <td>0.0</td>\n",
       "    </tr>\n",
       "    <tr>\n",
       "      <th>1</th>\n",
       "      <td>23</td>\n",
       "      <td>4.3</td>\n",
       "      <td>0.0</td>\n",
       "      <td>0.0</td>\n",
       "      <td>0.0</td>\n",
       "      <td>0.0</td>\n",
       "      <td>0.0</td>\n",
       "      <td>0.0</td>\n",
       "      <td>0.0</td>\n",
       "      <td>0.0</td>\n",
       "      <td>...</td>\n",
       "      <td>0.0</td>\n",
       "      <td>0.0</td>\n",
       "      <td>0.0</td>\n",
       "      <td>0.0</td>\n",
       "      <td>0.0</td>\n",
       "      <td>0.0</td>\n",
       "      <td>0.0</td>\n",
       "      <td>0.0</td>\n",
       "      <td>0.0</td>\n",
       "      <td>0.0</td>\n",
       "    </tr>\n",
       "    <tr>\n",
       "      <th>2</th>\n",
       "      <td>32</td>\n",
       "      <td>12.5</td>\n",
       "      <td>0.0</td>\n",
       "      <td>0.0</td>\n",
       "      <td>0.0</td>\n",
       "      <td>0.0</td>\n",
       "      <td>0.0</td>\n",
       "      <td>0.0</td>\n",
       "      <td>0.0</td>\n",
       "      <td>0.0</td>\n",
       "      <td>...</td>\n",
       "      <td>0.0</td>\n",
       "      <td>0.0</td>\n",
       "      <td>0.0</td>\n",
       "      <td>0.0</td>\n",
       "      <td>0.0</td>\n",
       "      <td>0.0</td>\n",
       "      <td>0.0</td>\n",
       "      <td>0.0</td>\n",
       "      <td>0.0</td>\n",
       "      <td>0.0</td>\n",
       "    </tr>\n",
       "    <tr>\n",
       "      <th>3</th>\n",
       "      <td>58</td>\n",
       "      <td>8.6</td>\n",
       "      <td>0.0</td>\n",
       "      <td>0.0</td>\n",
       "      <td>0.0</td>\n",
       "      <td>0.0</td>\n",
       "      <td>0.0</td>\n",
       "      <td>0.0</td>\n",
       "      <td>0.0</td>\n",
       "      <td>0.0</td>\n",
       "      <td>...</td>\n",
       "      <td>0.0</td>\n",
       "      <td>0.0</td>\n",
       "      <td>0.0</td>\n",
       "      <td>0.0</td>\n",
       "      <td>0.0</td>\n",
       "      <td>0.0</td>\n",
       "      <td>0.0</td>\n",
       "      <td>0.0</td>\n",
       "      <td>0.0</td>\n",
       "      <td>0.0</td>\n",
       "    </tr>\n",
       "    <tr>\n",
       "      <th>4</th>\n",
       "      <td>137</td>\n",
       "      <td>6.6</td>\n",
       "      <td>0.0</td>\n",
       "      <td>0.0</td>\n",
       "      <td>0.0</td>\n",
       "      <td>0.0</td>\n",
       "      <td>0.0</td>\n",
       "      <td>0.0</td>\n",
       "      <td>0.0</td>\n",
       "      <td>0.0</td>\n",
       "      <td>...</td>\n",
       "      <td>0.0</td>\n",
       "      <td>0.0</td>\n",
       "      <td>0.0</td>\n",
       "      <td>0.0</td>\n",
       "      <td>0.0</td>\n",
       "      <td>0.0</td>\n",
       "      <td>0.0</td>\n",
       "      <td>0.0</td>\n",
       "      <td>0.0</td>\n",
       "      <td>0.0</td>\n",
       "    </tr>\n",
       "  </tbody>\n",
       "</table>\n",
       "<p>5 rows × 7125 columns</p>\n",
       "</div>"
      ],
      "text/plain": [
       "   body_len  punct%    0  008704050406  0089mi  01223585236  01223585334   \n",
       "0        39     5.1  0.0           0.0     0.0          0.0          0.0  \\\n",
       "1        23     4.3  0.0           0.0     0.0          0.0          0.0   \n",
       "2        32    12.5  0.0           0.0     0.0          0.0          0.0   \n",
       "3        58     8.6  0.0           0.0     0.0          0.0          0.0   \n",
       "4       137     6.6  0.0           0.0     0.0          0.0          0.0   \n",
       "\n",
       "   0125698789   02  020603  ...  zed  zero  zindgi  zoe  zogtoriu  zoom   \n",
       "0         0.0  0.0     0.0  ...  0.0   0.0     0.0  0.0       0.0   0.0  \\\n",
       "1         0.0  0.0     0.0  ...  0.0   0.0     0.0  0.0       0.0   0.0   \n",
       "2         0.0  0.0     0.0  ...  0.0   0.0     0.0  0.0       0.0   0.0   \n",
       "3         0.0  0.0     0.0  ...  0.0   0.0     0.0  0.0       0.0   0.0   \n",
       "4         0.0  0.0     0.0  ...  0.0   0.0     0.0  0.0       0.0   0.0   \n",
       "\n",
       "   zyada    é    ü  üll  \n",
       "0    0.0  0.0  0.0  0.0  \n",
       "1    0.0  0.0  0.0  0.0  \n",
       "2    0.0  0.0  0.0  0.0  \n",
       "3    0.0  0.0  0.0  0.0  \n",
       "4    0.0  0.0  0.0  0.0  \n",
       "\n",
       "[5 rows x 7125 columns]"
      ]
     },
     "execution_count": 45,
     "metadata": {},
     "output_type": "execute_result"
    }
   ],
   "source": [
    "X_test_vect_df = pd.DataFrame(tfidf_test.toarray())\n",
    "X_test_vect_df.columns = tfidf_vect.get_feature_names_out()\n",
    "\n",
    "X_test_vect = pd.concat([X_test[[\"body_len\", \"punct%\"]].reset_index(drop=True), X_test_vect_df], axis=1)\n",
    "X_test_vect.head()"
   ]
  },
  {
   "cell_type": "markdown",
   "id": "56d53643-a21b-46ab-86a5-9c6ba0aadcb7",
   "metadata": {},
   "source": [
    "### Model Evaluation"
   ]
  },
  {
   "cell_type": "code",
   "execution_count": 46,
   "id": "a3ac6957-2c8d-4083-aaa5-44743efa2721",
   "metadata": {
    "tags": []
   },
   "outputs": [],
   "source": [
    "# Evaluating Random Forest Classifier\n",
    "rf = RandomForestClassifier(n_estimators=150, max_depth=None, n_jobs=-1)\n",
    "\n",
    "start = time.time()\n",
    "rf_model = rf.fit(X_train_vect, y_train)\n",
    "end = time.time()\n",
    "rf_model_fit_time = end - start\n",
    "\n",
    "start = time.time()\n",
    "y_pred = rf_model.predict(X_test_vect)\n",
    "end = time.time()\n",
    "rf_model_pred_time = end - start\n",
    "\n",
    "precision, recall, fscore, support =score(y_test, y_pred, pos_label=\"spam\", average=\"binary\")"
   ]
  },
  {
   "cell_type": "code",
   "execution_count": 51,
   "id": "05702d0c-7bb6-4558-93c9-fd99f248f0bf",
   "metadata": {
    "tags": []
   },
   "outputs": [
    {
     "name": "stdout",
     "output_type": "stream",
     "text": [
      "\n",
      "Fit Time\t: 9.173\n",
      "Predict Time\t: 0.275\n",
      "Precision\t: 1.0\n",
      "Recall \t\t: 0.794\n",
      "Accuracy\t: 0.971\n",
      "\n"
     ]
    }
   ],
   "source": [
    "print(f\"\"\"\n",
    "Fit Time\\t: {round(rf_model_fit_time, 3)}\n",
    "Predict Time\\t: {round(rf_model_pred_time, 3)}\n",
    "Precision\\t: {round(precision, 3)}\n",
    "Recall \\t\\t: {round(recall, 3)}\n",
    "Accuracy\\t: {round((y_pred == y_test).sum()/len(y_pred), 3)}\n",
    "\"\"\")"
   ]
  },
  {
   "cell_type": "code",
   "execution_count": 53,
   "id": "d83cd3c3-9ae7-4eba-9d87-345003048190",
   "metadata": {
    "tags": []
   },
   "outputs": [],
   "source": [
    "# Validating Gradient Boosting Model\n",
    "\n",
    "gb = GradientBoostingClassifier(n_estimators=150, max_depth=11)\n",
    "\n",
    "start = time.time()\n",
    "gb_model = gb.fit(X_train_vect, y_train)\n",
    "end = time.time()\n",
    "gb_model_fit_time = end - start\n",
    "\n",
    "start = time.time()\n",
    "y_pred = gb_model.predict(X_test_vect)\n",
    "end = time.time()\n",
    "gb_model_pred_time = end - start\n",
    "\n",
    "precision, recall, fscore, support = score(y_test, y_pred, pos_label=\"spam\", average=\"binary\")"
   ]
  },
  {
   "cell_type": "code",
   "execution_count": 54,
   "id": "e11f2c31-e559-4766-99ab-0f7c3dea3a7a",
   "metadata": {
    "tags": []
   },
   "outputs": [
    {
     "name": "stdout",
     "output_type": "stream",
     "text": [
      "\n",
      "Fit Time\t: 376.128\n",
      "Predict Time\t: 0.275\n",
      "Precision\t: 0.97\n",
      "Recall \t\t: 0.839\n",
      "Accuracy\t: 0.974\n",
      "\n"
     ]
    }
   ],
   "source": [
    "print(f\"\"\"\n",
    "Fit Time\\t: {round(gb_model_fit_time, 3)}\n",
    "Predict Time\\t: {round(gb_model_pred_time, 3)}\n",
    "Precision\\t: {round(precision, 3)}\n",
    "Recall \\t\\t: {round(recall, 3)}\n",
    "Accuracy\\t: {round((y_pred == y_test).sum()/len(y_pred), 3)}\n",
    "\"\"\")"
   ]
  },
  {
   "cell_type": "markdown",
   "id": "b79fd08f-05c1-47a1-9183-90a852027860",
   "metadata": {
    "tags": []
   },
   "source": [
    "In opinion consider Random Forest Model."
   ]
  },
  {
   "cell_type": "code",
   "execution_count": null,
   "id": "42cbb2cc-f2ac-4edf-a318-9b118d1d5fd3",
   "metadata": {},
   "outputs": [],
   "source": []
  }
 ],
 "metadata": {
  "kernelspec": {
   "display_name": "Python 3 (ipykernel)",
   "language": "python",
   "name": "python3"
  },
  "language_info": {
   "codemirror_mode": {
    "name": "ipython",
    "version": 3
   },
   "file_extension": ".py",
   "mimetype": "text/x-python",
   "name": "python",
   "nbconvert_exporter": "python",
   "pygments_lexer": "ipython3",
   "version": "3.11.2"
  }
 },
 "nbformat": 4,
 "nbformat_minor": 5
}
