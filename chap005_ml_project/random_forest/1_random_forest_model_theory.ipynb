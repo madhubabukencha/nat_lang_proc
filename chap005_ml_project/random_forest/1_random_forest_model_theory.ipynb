{
 "cells": [
  {
   "cell_type": "markdown",
   "id": "c9f02715-dab3-4584-a8ba-ef2bc78d29c7",
   "metadata": {},
   "source": [
    "<p style=\"color:#153462; \n",
    "          font-weight: bold; \n",
    "          font-size: 30px; \n",
    "          font-family: Gill Sans, sans-serif; \n",
    "          text-align: center;\">\n",
    "          Random Forest Model Theory</p>"
   ]
  },
  {
   "cell_type": "markdown",
   "id": "6a5975a0-9292-4a47-b95c-d1e2f3a404f1",
   "metadata": {},
   "source": [
    "### K-Fold Cross-Validation"
   ]
  },
  {
   "cell_type": "markdown",
   "id": "ead2708a-6025-4d83-bc91-5c48aa081941",
   "metadata": {},
   "source": [
    "<p style=\"text-align: justify; text-justify: inter-word;\">\n",
    "   <font size=3>\n",
    "       In a model training validation set plays a vital role. In K-Fold Cross Validation, the full dataset is divided into k-subsets and the holdout method repeated K times. Each time, one of the K-subsets is used as the test set and other K-1 subsets are put together to be used to train the model. \n",
    "   </font>\n",
    "</p>\n"
   ]
  },
  {
   "cell_type": "markdown",
   "id": "acd1c4d6-2af4-4c9a-bfe4-f454fc1a1d1d",
   "metadata": {},
   "source": [
    "<img src=\"images/five_fold_cross_validation.png\" alt=\"five_fold_cross_validation\" style=\"width: 600px;\"/>"
   ]
  },
  {
   "cell_type": "markdown",
   "id": "91cf7720-cd17-4cae-ad1f-a71781fb8fcf",
   "metadata": {},
   "source": [
    "<p style=\"text-align: justify; text-justify: inter-word;\">\n",
    "   <font size=3>\n",
    "       In the above image we can see that, we have selected K as 5. Which means we have decided to have 5-subsets. As a result, we can have model performace for 5 subsets and overall average performance score. This gives us some confidence on model performance.\n",
    "   </font>\n",
    "</p>"
   ]
  },
  {
   "cell_type": "markdown",
   "id": "371672a7-d944-4ffd-8895-838d46aec4d7",
   "metadata": {},
   "source": [
    "### Evaluation matrix"
   ]
  },
  {
   "cell_type": "markdown",
   "id": "5ed13717-d412-4277-8ab1-dc72bdf4b426",
   "metadata": {
    "tags": []
   },
   "source": [
    "<img src=\"images/evaluation_matrix.png\" alt=\"evaluation_matrix\" style=\"width: 600px;\"/>"
   ]
  },
  {
   "cell_type": "markdown",
   "id": "abbdee04-dca0-4ee7-9cc2-a87580f1b275",
   "metadata": {},
   "source": [
    "### Ensemble Method"
   ]
  },
  {
   "cell_type": "markdown",
   "id": "62e27fcb-ce5d-4044-bedc-f21c88bcc73b",
   "metadata": {},
   "source": [
    "<p style=\"text-align: justify; text-justify: inter-word;\">\n",
    "   <font size=3>\n",
    "       It is technique that creates multiple models and then combine them to produce better results than any\n",
    "       of single model invidually.\n",
    "   </font>\n",
    "</p>"
   ]
  },
  {
   "cell_type": "markdown",
   "id": "355df86c-6c52-4d97-9165-15d5875c2cc0",
   "metadata": {},
   "source": [
    "### Random Forest"
   ]
  },
  {
   "cell_type": "markdown",
   "id": "b6535aaf-9d3a-4ed4-b3bd-cd77c353616a",
   "metadata": {},
   "source": [
    "<p style=\"text-align: justify; text-justify: inter-word;\">\n",
    "   <font size=3>\n",
    "       Random Forest follows ensemble learning method that constructs a collection of decision trees and then aggregates that predictions of each tree to determine the final prediction\n",
    "   </font>\n",
    "</p>"
   ]
  },
  {
   "cell_type": "markdown",
   "id": "b9a12b56-2267-42e2-81d5-5c762e872d8a",
   "metadata": {
    "tags": []
   },
   "source": [
    "#### Benifits of Ensemble Method"
   ]
  },
  {
   "cell_type": "markdown",
   "id": "5c1d280d-7eeb-49b3-afaa-5ea1ddce8730",
   "metadata": {},
   "source": [
    "<ul>\n",
    "    <li>It can be used for both Classification and Regression Tasks</li>\n",
    "    <li>Easily handles outlier, missing values etc..,</li>\n",
    "    <li>Accepts various types of inputs(continuous, ordinal etc..,)</li>\n",
    "    <li>Less likely overfit</li>\n",
    "    <li>outputs the features importance</li>\n",
    "</ul>"
   ]
  },
  {
   "cell_type": "code",
   "execution_count": null,
   "id": "add0e337-faa7-43d1-b97a-839b32c012ba",
   "metadata": {},
   "outputs": [],
   "source": []
  }
 ],
 "metadata": {
  "kernelspec": {
   "display_name": "Python 3 (ipykernel)",
   "language": "python",
   "name": "python3"
  },
  "language_info": {
   "codemirror_mode": {
    "name": "ipython",
    "version": 3
   },
   "file_extension": ".py",
   "mimetype": "text/x-python",
   "name": "python",
   "nbconvert_exporter": "python",
   "pygments_lexer": "ipython3",
   "version": "3.11.2"
  }
 },
 "nbformat": 4,
 "nbformat_minor": 5
}
