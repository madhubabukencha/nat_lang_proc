{
 "cells": [
  {
   "cell_type": "markdown",
   "id": "2b9c21f8-9a37-4720-98c8-45c1e6548250",
   "metadata": {
    "tags": []
   },
   "source": [
    "<p style=\"color:#153462; \n",
    "          font-weight: bold; \n",
    "          font-size: 30px; \n",
    "          font-family: Gill Sans, sans-serif; \n",
    "          text-align: center;\">\n",
    "          Random Forest Implementation For NLP</p>"
   ]
  },
  {
   "cell_type": "markdown",
   "id": "bca5041f-1f99-40e4-a24d-f0de049a8bb1",
   "metadata": {},
   "source": [
    "### Loading and Preparing the Data"
   ]
  },
  {
   "cell_type": "code",
   "execution_count": 1,
   "id": "2f989c4a-fc2c-4e39-8392-beacb439c1c3",
   "metadata": {
    "tags": []
   },
   "outputs": [],
   "source": [
    "import nltk\n",
    "import pandas as pd\n",
    "import re\n",
    "from sklearn.feature_extraction.text import TfidfVectorizer\n",
    "import string\n",
    "\n",
    "nltk.data.path.append(r\"D:\\Artificial_Intelligence\\nat_lang_proc\\nltk_data\")\n",
    "stopwords = nltk.corpus.stopwords.words(\"english\")\n",
    "ps = nltk.PorterStemmer()"
   ]
  },
  {
   "cell_type": "code",
   "execution_count": 2,
   "id": "bd45b122-3a38-4324-9bf2-f8d79f5d3d15",
   "metadata": {
    "tags": []
   },
   "outputs": [],
   "source": [
    "data_df = pd.read_csv(r\"D:/Artificial_Intelligence/nat_lang_proc/data/SMSSpamCollection.tsv\", \n",
    "                      delimiter=\"\\t\", \n",
    "                      header=None)\n",
    "data_df.columns = [\"labels\", \"body_text\"]"
   ]
  },
  {
   "cell_type": "code",
   "execution_count": 3,
   "id": "a1c4f162-bd73-4dc8-9080-714285a93f98",
   "metadata": {
    "tags": []
   },
   "outputs": [],
   "source": [
    "def count_punct(text):\n",
    "    count = sum([1 for char in text if char in string.punctuation])\n",
    "    return round(count/(len(text)-text.count(\" \")), 3)*100"
   ]
  },
  {
   "cell_type": "code",
   "execution_count": 4,
   "id": "b84e649b-37de-4b24-8857-4631735d3c3b",
   "metadata": {},
   "outputs": [
    {
     "data": {
      "text/html": [
       "<div>\n",
       "<style scoped>\n",
       "    .dataframe tbody tr th:only-of-type {\n",
       "        vertical-align: middle;\n",
       "    }\n",
       "\n",
       "    .dataframe tbody tr th {\n",
       "        vertical-align: top;\n",
       "    }\n",
       "\n",
       "    .dataframe thead th {\n",
       "        text-align: right;\n",
       "    }\n",
       "</style>\n",
       "<table border=\"1\" class=\"dataframe\">\n",
       "  <thead>\n",
       "    <tr style=\"text-align: right;\">\n",
       "      <th></th>\n",
       "      <th>labels</th>\n",
       "      <th>body_text</th>\n",
       "      <th>body_len</th>\n",
       "      <th>punct%</th>\n",
       "    </tr>\n",
       "  </thead>\n",
       "  <tbody>\n",
       "    <tr>\n",
       "      <th>0</th>\n",
       "      <td>ham</td>\n",
       "      <td>I've been searching for the right words to tha...</td>\n",
       "      <td>160</td>\n",
       "      <td>2.5</td>\n",
       "    </tr>\n",
       "    <tr>\n",
       "      <th>1</th>\n",
       "      <td>spam</td>\n",
       "      <td>Free entry in 2 a wkly comp to win FA Cup fina...</td>\n",
       "      <td>128</td>\n",
       "      <td>4.7</td>\n",
       "    </tr>\n",
       "    <tr>\n",
       "      <th>2</th>\n",
       "      <td>ham</td>\n",
       "      <td>Nah I don't think he goes to usf, he lives aro...</td>\n",
       "      <td>49</td>\n",
       "      <td>4.1</td>\n",
       "    </tr>\n",
       "    <tr>\n",
       "      <th>3</th>\n",
       "      <td>ham</td>\n",
       "      <td>Even my brother is not like to speak with me. ...</td>\n",
       "      <td>62</td>\n",
       "      <td>3.2</td>\n",
       "    </tr>\n",
       "    <tr>\n",
       "      <th>4</th>\n",
       "      <td>ham</td>\n",
       "      <td>I HAVE A DATE ON SUNDAY WITH WILL!!</td>\n",
       "      <td>28</td>\n",
       "      <td>7.1</td>\n",
       "    </tr>\n",
       "  </tbody>\n",
       "</table>\n",
       "</div>"
      ],
      "text/plain": [
       "  labels                                          body_text  body_len  punct%\n",
       "0    ham  I've been searching for the right words to tha...       160     2.5\n",
       "1   spam  Free entry in 2 a wkly comp to win FA Cup fina...       128     4.7\n",
       "2    ham  Nah I don't think he goes to usf, he lives aro...        49     4.1\n",
       "3    ham  Even my brother is not like to speak with me. ...        62     3.2\n",
       "4    ham                I HAVE A DATE ON SUNDAY WITH WILL!!        28     7.1"
      ]
     },
     "execution_count": 4,
     "metadata": {},
     "output_type": "execute_result"
    }
   ],
   "source": [
    "data_df[\"body_len\"] = data_df[\"body_text\"].apply(lambda x:len(x) - x.count(\" \"))\n",
    "data_df[\"punct%\"] = data_df[\"body_text\"].apply(lambda x: count_punct(x))\n",
    "data_df.head()"
   ]
  },
  {
   "cell_type": "code",
   "execution_count": 5,
   "id": "5fb65399-7f68-4f1c-a8d8-c1e91698894e",
   "metadata": {
    "tags": []
   },
   "outputs": [],
   "source": [
    "def clean_data(text):\n",
    "    without_punc = \"\".join([char.lower() for char in text if char not in string.punctuation])\n",
    "    tokenzied_text = re.findall(\"\\w+\", without_punc)\n",
    "    stemmed_tokens = [ps.stem(word) for word in tokenzied_text if word not in stopwords]\n",
    "    return stemmed_tokens\n",
    "tfidf_vect = TfidfVectorizer(analyzer=clean_data)\n",
    "X_tfidf = tfidf_vect.fit_transform(data_df[\"body_text\"])"
   ]
  },
  {
   "cell_type": "code",
   "execution_count": 6,
   "id": "6b85f7d5-08cf-4992-8394-3190467207f1",
   "metadata": {
    "tags": []
   },
   "outputs": [
    {
     "data": {
      "text/html": [
       "<div>\n",
       "<style scoped>\n",
       "    .dataframe tbody tr th:only-of-type {\n",
       "        vertical-align: middle;\n",
       "    }\n",
       "\n",
       "    .dataframe tbody tr th {\n",
       "        vertical-align: top;\n",
       "    }\n",
       "\n",
       "    .dataframe thead th {\n",
       "        text-align: right;\n",
       "    }\n",
       "</style>\n",
       "<table border=\"1\" class=\"dataframe\">\n",
       "  <thead>\n",
       "    <tr style=\"text-align: right;\">\n",
       "      <th></th>\n",
       "      <th>body_len</th>\n",
       "      <th>punct%</th>\n",
       "      <th>0</th>\n",
       "      <th>008704050406</th>\n",
       "      <th>0089mi</th>\n",
       "      <th>0121</th>\n",
       "      <th>01223585236</th>\n",
       "      <th>01223585334</th>\n",
       "      <th>0125698789</th>\n",
       "      <th>02</th>\n",
       "      <th>...</th>\n",
       "      <th>zindgi</th>\n",
       "      <th>zoe</th>\n",
       "      <th>zogtoriu</th>\n",
       "      <th>zoom</th>\n",
       "      <th>zouk</th>\n",
       "      <th>zyada</th>\n",
       "      <th>é</th>\n",
       "      <th>ü</th>\n",
       "      <th>üll</th>\n",
       "      <th>〨ud</th>\n",
       "    </tr>\n",
       "  </thead>\n",
       "  <tbody>\n",
       "    <tr>\n",
       "      <th>0</th>\n",
       "      <td>160</td>\n",
       "      <td>2.5</td>\n",
       "      <td>0.0</td>\n",
       "      <td>0.0</td>\n",
       "      <td>0.0</td>\n",
       "      <td>0.0</td>\n",
       "      <td>0.0</td>\n",
       "      <td>0.0</td>\n",
       "      <td>0.0</td>\n",
       "      <td>0.0</td>\n",
       "      <td>...</td>\n",
       "      <td>0.0</td>\n",
       "      <td>0.0</td>\n",
       "      <td>0.0</td>\n",
       "      <td>0.0</td>\n",
       "      <td>0.0</td>\n",
       "      <td>0.0</td>\n",
       "      <td>0.0</td>\n",
       "      <td>0.0</td>\n",
       "      <td>0.0</td>\n",
       "      <td>0.0</td>\n",
       "    </tr>\n",
       "    <tr>\n",
       "      <th>1</th>\n",
       "      <td>128</td>\n",
       "      <td>4.7</td>\n",
       "      <td>0.0</td>\n",
       "      <td>0.0</td>\n",
       "      <td>0.0</td>\n",
       "      <td>0.0</td>\n",
       "      <td>0.0</td>\n",
       "      <td>0.0</td>\n",
       "      <td>0.0</td>\n",
       "      <td>0.0</td>\n",
       "      <td>...</td>\n",
       "      <td>0.0</td>\n",
       "      <td>0.0</td>\n",
       "      <td>0.0</td>\n",
       "      <td>0.0</td>\n",
       "      <td>0.0</td>\n",
       "      <td>0.0</td>\n",
       "      <td>0.0</td>\n",
       "      <td>0.0</td>\n",
       "      <td>0.0</td>\n",
       "      <td>0.0</td>\n",
       "    </tr>\n",
       "    <tr>\n",
       "      <th>2</th>\n",
       "      <td>49</td>\n",
       "      <td>4.1</td>\n",
       "      <td>0.0</td>\n",
       "      <td>0.0</td>\n",
       "      <td>0.0</td>\n",
       "      <td>0.0</td>\n",
       "      <td>0.0</td>\n",
       "      <td>0.0</td>\n",
       "      <td>0.0</td>\n",
       "      <td>0.0</td>\n",
       "      <td>...</td>\n",
       "      <td>0.0</td>\n",
       "      <td>0.0</td>\n",
       "      <td>0.0</td>\n",
       "      <td>0.0</td>\n",
       "      <td>0.0</td>\n",
       "      <td>0.0</td>\n",
       "      <td>0.0</td>\n",
       "      <td>0.0</td>\n",
       "      <td>0.0</td>\n",
       "      <td>0.0</td>\n",
       "    </tr>\n",
       "    <tr>\n",
       "      <th>3</th>\n",
       "      <td>62</td>\n",
       "      <td>3.2</td>\n",
       "      <td>0.0</td>\n",
       "      <td>0.0</td>\n",
       "      <td>0.0</td>\n",
       "      <td>0.0</td>\n",
       "      <td>0.0</td>\n",
       "      <td>0.0</td>\n",
       "      <td>0.0</td>\n",
       "      <td>0.0</td>\n",
       "      <td>...</td>\n",
       "      <td>0.0</td>\n",
       "      <td>0.0</td>\n",
       "      <td>0.0</td>\n",
       "      <td>0.0</td>\n",
       "      <td>0.0</td>\n",
       "      <td>0.0</td>\n",
       "      <td>0.0</td>\n",
       "      <td>0.0</td>\n",
       "      <td>0.0</td>\n",
       "      <td>0.0</td>\n",
       "    </tr>\n",
       "    <tr>\n",
       "      <th>4</th>\n",
       "      <td>28</td>\n",
       "      <td>7.1</td>\n",
       "      <td>0.0</td>\n",
       "      <td>0.0</td>\n",
       "      <td>0.0</td>\n",
       "      <td>0.0</td>\n",
       "      <td>0.0</td>\n",
       "      <td>0.0</td>\n",
       "      <td>0.0</td>\n",
       "      <td>0.0</td>\n",
       "      <td>...</td>\n",
       "      <td>0.0</td>\n",
       "      <td>0.0</td>\n",
       "      <td>0.0</td>\n",
       "      <td>0.0</td>\n",
       "      <td>0.0</td>\n",
       "      <td>0.0</td>\n",
       "      <td>0.0</td>\n",
       "      <td>0.0</td>\n",
       "      <td>0.0</td>\n",
       "      <td>0.0</td>\n",
       "    </tr>\n",
       "  </tbody>\n",
       "</table>\n",
       "<p>5 rows × 8108 columns</p>\n",
       "</div>"
      ],
      "text/plain": [
       "   body_len  punct%    0  008704050406  0089mi  0121  01223585236   \n",
       "0       160     2.5  0.0           0.0     0.0   0.0          0.0  \\\n",
       "1       128     4.7  0.0           0.0     0.0   0.0          0.0   \n",
       "2        49     4.1  0.0           0.0     0.0   0.0          0.0   \n",
       "3        62     3.2  0.0           0.0     0.0   0.0          0.0   \n",
       "4        28     7.1  0.0           0.0     0.0   0.0          0.0   \n",
       "\n",
       "   01223585334  0125698789   02  ...  zindgi  zoe  zogtoriu  zoom  zouk   \n",
       "0          0.0         0.0  0.0  ...     0.0  0.0       0.0   0.0   0.0  \\\n",
       "1          0.0         0.0  0.0  ...     0.0  0.0       0.0   0.0   0.0   \n",
       "2          0.0         0.0  0.0  ...     0.0  0.0       0.0   0.0   0.0   \n",
       "3          0.0         0.0  0.0  ...     0.0  0.0       0.0   0.0   0.0   \n",
       "4          0.0         0.0  0.0  ...     0.0  0.0       0.0   0.0   0.0   \n",
       "\n",
       "   zyada    é    ü  üll  〨ud  \n",
       "0    0.0  0.0  0.0  0.0  0.0  \n",
       "1    0.0  0.0  0.0  0.0  0.0  \n",
       "2    0.0  0.0  0.0  0.0  0.0  \n",
       "3    0.0  0.0  0.0  0.0  0.0  \n",
       "4    0.0  0.0  0.0  0.0  0.0  \n",
       "\n",
       "[5 rows x 8108 columns]"
      ]
     },
     "execution_count": 6,
     "metadata": {},
     "output_type": "execute_result"
    }
   ],
   "source": [
    "X_dfidf_df = pd.DataFrame(X_tfidf.toarray())\n",
    "X_dfidf_df.columns = tfidf_vect.get_feature_names_out()\n",
    "X_features = pd.concat([data_df[\"body_len\"], data_df[\"punct%\"], X_dfidf_df], axis=1)\n",
    "X_features.head()"
   ]
  },
  {
   "cell_type": "markdown",
   "id": "1f41956d-d544-4903-8fed-ca24f6564afe",
   "metadata": {},
   "source": [
    "### Instantiating Random Forest Classifier"
   ]
  },
  {
   "cell_type": "code",
   "execution_count": 7,
   "id": "603023f5-20e7-4487-8b55-5e1dea6a7f87",
   "metadata": {
    "tags": []
   },
   "outputs": [],
   "source": [
    "from sklearn.ensemble import RandomForestClassifier"
   ]
  },
  {
   "cell_type": "code",
   "execution_count": 8,
   "id": "758843c3-03d2-4578-aa34-18f9825990dd",
   "metadata": {
    "tags": []
   },
   "outputs": [],
   "source": [
    "# n_jobs will tell that model should run jobs(decision tree) in pipeline\n",
    "rf = RandomForestClassifier(n_jobs=-1)"
   ]
  },
  {
   "cell_type": "markdown",
   "id": "d48db42b-757c-49e5-bf8a-c7142b6974cb",
   "metadata": {},
   "source": [
    "### KFold and cross_val_score"
   ]
  },
  {
   "cell_type": "code",
   "execution_count": 9,
   "id": "1f1e2651-e46c-4c8d-82af-ad5358dcb9b5",
   "metadata": {
    "tags": []
   },
   "outputs": [],
   "source": [
    "from sklearn.model_selection import cross_val_score, KFold"
   ]
  },
  {
   "cell_type": "code",
   "execution_count": 10,
   "id": "1b7b8b6d-730d-4378-adea-01b2acd5f2ec",
   "metadata": {
    "tags": []
   },
   "outputs": [],
   "source": [
    "k_fold = KFold(n_splits=5)"
   ]
  },
  {
   "cell_type": "code",
   "execution_count": 11,
   "id": "3f6115c9-8406-4fd8-822d-597de55bdc9a",
   "metadata": {
    "tags": []
   },
   "outputs": [
    {
     "data": {
      "text/plain": [
       "array([0.97666068, 0.98025135, 0.97486535, 0.96495957, 0.97394429])"
      ]
     },
     "execution_count": 11,
     "metadata": {},
     "output_type": "execute_result"
    }
   ],
   "source": [
    "cross_val_score(rf, X_features, data_df[\"labels\"], cv=k_fold, scoring=\"accuracy\", n_jobs=-1)"
   ]
  },
  {
   "cell_type": "markdown",
   "id": "eba0dc3c-601d-4c17-80f5-36c775622b1a",
   "metadata": {},
   "source": [
    "### Random Forest Throught Holdout Set"
   ]
  },
  {
   "cell_type": "code",
   "execution_count": 12,
   "id": "be8689c2-4dfd-4fcc-8844-fc56c987a81e",
   "metadata": {
    "tags": []
   },
   "outputs": [],
   "source": [
    "from sklearn.metrics import precision_recall_fscore_support as score\n",
    "from sklearn.model_selection import train_test_split"
   ]
  },
  {
   "cell_type": "code",
   "execution_count": 14,
   "id": "afbf1fcc-d68f-4879-8ca7-34d7a7b8fbe4",
   "metadata": {
    "tags": []
   },
   "outputs": [],
   "source": [
    "# Spliting data\n",
    "X_train, X_test, y_train, y_test = train_test_split(\n",
    "    X_features,\n",
    "    data_df[\"labels\"],\n",
    "    test_size=0.2\n",
    ")"
   ]
  },
  {
   "cell_type": "code",
   "execution_count": 17,
   "id": "aad4db99-8937-4830-9a85-91bd47434489",
   "metadata": {
    "tags": []
   },
   "outputs": [],
   "source": [
    "# instantiating model\n",
    "rf = RandomForestClassifier(n_estimators=50, # Tells the number of decision trees to consider\n",
    "                            max_depth=20, # Maximum depth of the decision trees\n",
    "                            n_jobs=-1)\n",
    "rf_model = rf.fit(X_train, y_train)"
   ]
  },
  {
   "cell_type": "code",
   "execution_count": 21,
   "id": "d7b4f83a-e757-4bda-9654-2cfdb86afbe0",
   "metadata": {
    "tags": []
   },
   "outputs": [
    {
     "data": {
      "text/plain": [
       "[(0.060629490205550855, 'body_len'),\n",
       " (0.045668736978189954, 'txt'),\n",
       " (0.03950366232278892, 'free'),\n",
       " (0.03392137889383775, 'call'),\n",
       " (0.02351650306398356, 'prize'),\n",
       " (0.018965004260149004, 'claim'),\n",
       " (0.017612146194033985, 'servic'),\n",
       " (0.0164931086462909, 'cash'),\n",
       " (0.015334899848996665, 'award'),\n",
       " (0.01461329012029837, 'text')]"
      ]
     },
     "execution_count": 21,
     "metadata": {},
     "output_type": "execute_result"
    }
   ],
   "source": [
    "# checking import features of the model\n",
    "sorted(zip(rf_model.feature_importances_, X_train.columns), reverse=True)[:10]"
   ]
  },
  {
   "cell_type": "code",
   "execution_count": 22,
   "id": "10c4ea5f-580c-4101-b80f-6b203164adc8",
   "metadata": {
    "tags": []
   },
   "outputs": [],
   "source": [
    "# Predicting the labels for test data set\n",
    "y_predicted = rf_model.predict(X_test)"
   ]
  },
  {
   "cell_type": "code",
   "execution_count": 23,
   "id": "541e4065-f80a-4066-9a00-9c356db7cb5f",
   "metadata": {
    "tags": []
   },
   "outputs": [],
   "source": [
    "precision, recall, fscore, support = score(y_test, y_predicted, pos_label=\"spam\", average=\"binary\")"
   ]
  },
  {
   "cell_type": "code",
   "execution_count": 25,
   "id": "57668656-ec47-4814-86d5-aad60396e6ba",
   "metadata": {
    "tags": []
   },
   "outputs": [
    {
     "name": "stdout",
     "output_type": "stream",
     "text": [
      "precision: 1.0\n",
      "recall:0.64\n",
      "accuracy: 0.956\n"
     ]
    }
   ],
   "source": [
    "print(f\"precision: {round(precision, 3)}\\nrecall:{round(recall, 2)}\\naccuracy: {round((y_predicted == y_test).sum()/len(y_predicted), 3)}\")"
   ]
  },
  {
   "cell_type": "code",
   "execution_count": null,
   "id": "32c54bb9-f456-4294-a4ed-11aa25417838",
   "metadata": {},
   "outputs": [],
   "source": []
  }
 ],
 "metadata": {
  "kernelspec": {
   "display_name": "Python 3 (ipykernel)",
   "language": "python",
   "name": "python3"
  },
  "language_info": {
   "codemirror_mode": {
    "name": "ipython",
    "version": 3
   },
   "file_extension": ".py",
   "mimetype": "text/x-python",
   "name": "python",
   "nbconvert_exporter": "python",
   "pygments_lexer": "ipython3",
   "version": "3.11.2"
  }
 },
 "nbformat": 4,
 "nbformat_minor": 5
}
