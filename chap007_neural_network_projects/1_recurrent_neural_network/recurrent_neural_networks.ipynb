{
 "cells": [
  {
   "cell_type": "markdown",
   "id": "b8a2ee0a-1374-4c06-9b29-9059dfc0a6a8",
   "metadata": {
    "tags": []
   },
   "source": [
    "<p style=\"color:#153462; \n",
    "          font-weight: bold; \n",
    "          font-size: 30px; \n",
    "          font-family: Gill Sans, sans-serif; \n",
    "          text-align: center;\">\n",
    "          Recurrent Neural Networks</p>"
   ]
  },
  {
   "cell_type": "markdown",
   "id": "c385fde4-926b-4902-91a6-af24f394081c",
   "metadata": {},
   "source": [
    "### Neural Network"
   ]
  },
  {
   "cell_type": "markdown",
   "id": "d232f7b4-595a-4574-bff5-c5c1682c2599",
   "metadata": {},
   "source": [
    "<p style=\"text-align: justify; text-justify: inter-word;\">\n",
    "   <font size=3>\n",
    "       A neural network follows a process of pattern matching through the connection of many very simple functions to create one powerful function. It is very loosely based on connected neurons in the brain.\n",
    "   </font>\n",
    "</p>"
   ]
  },
  {
   "cell_type": "markdown",
   "id": "7a14c650-2234-4c24-abba-6c7595014946",
   "metadata": {
    "tags": []
   },
   "source": [
    "<img src=\"images/neural_network.png\" alt=\"neural_network\" style=\"width: 600px;\"/>"
   ]
  },
  {
   "cell_type": "markdown",
   "id": "8f7751e4-c124-4144-874e-76aea6ce5676",
   "metadata": {},
   "source": [
    "<p style=\"text-align: justify; text-justify: inter-word;\">\n",
    "   <font size=3>\n",
    "       In the above image, <i>Simple Neural Network</i> is also called <i>shallow, fully connected, feed\n",
    "       forward neural network</i>.<br>\n",
    "       we will try understand each termed used in the name:<br>\n",
    "       <i>Shallow</i>: Because there is only one hidden layer <br>\n",
    "       <i>Fully Connected</i>: Each node connected to everynode in the layer on either side of it.<br>\n",
    "       <i>Feed Forward</i>: The information flow directly from the input layer to the ouput layer without\n",
    "       ever moving backword\n",
    "   </font>\n",
    "</p>"
   ]
  },
  {
   "cell_type": "markdown",
   "id": "194c9e24-1f3f-44f3-b252-a444cc2bdf8a",
   "metadata": {},
   "source": [
    "### Recurrent Neural Network"
   ]
  },
  {
   "cell_type": "markdown",
   "id": "d61c871a-1b3b-4fa1-a146-536293d28755",
   "metadata": {},
   "source": [
    "<p style=\"text-align: justify; text-justify: inter-word;\">\n",
    "   <font size=3>\n",
    "       Pattern matching through the connection of many very simple functions to create one very powerful function.\n",
    "       This function has an understanding of the data's sequential nature(Using feedback loops that form a sense \n",
    "       of memory). Below image will give the basic idea about it.\n",
    "   </font>\n",
    "</p>"
   ]
  },
  {
   "cell_type": "markdown",
   "id": "986fb94d-15ed-405f-9c15-6287de652df5",
   "metadata": {},
   "source": [
    "<img src=\"images/sequence_learning.png\" alt=\"sequence_learning\" style=\"width: 600px;\"/>"
   ]
  },
  {
   "cell_type": "markdown",
   "id": "4f025db6-e652-4445-a71c-196b1965217a",
   "metadata": {},
   "source": [
    "### Loading and Tokenizing the Data"
   ]
  },
  {
   "cell_type": "code",
   "execution_count": 38,
   "id": "d3b084b8-19cd-4497-b62b-891eb351053a",
   "metadata": {
    "tags": []
   },
   "outputs": [],
   "source": [
    "import pandas as pd\n",
    "import numpy as np\n",
    "from sklearn.model_selection import train_test_split\n",
    "from keras.preprocessing.text import Tokenizer\n",
    "from keras.utils import pad_sequences\n",
    "import keras.backend as K\n",
    "from keras.layers import Dense, Embedding, LSTM\n",
    "from keras.models import Sequential"
   ]
  },
  {
   "cell_type": "code",
   "execution_count": 39,
   "id": "36da8799-8bf7-4ed3-88dd-96f78e720c23",
   "metadata": {},
   "outputs": [],
   "source": [
    "data_df = pd.read_csv(r\"D:\\Artificial_Intelligence\\nat_lang_proc\\data\\spam.csv\", \n",
    "                          encoding=\"latin-1\")\n",
    "data_df = data_df.drop(labels=['Unnamed: 2', 'Unnamed: 3', 'Unnamed: 4'], axis=1)\n",
    "data_df.columns = [\"label\", \"text\"]\n",
    "labels = np.where(data_df[\"label\"] == \"spam\", 1, 0)"
   ]
  },
  {
   "cell_type": "code",
   "execution_count": 40,
   "id": "47b49f91-8408-425a-ba2b-9fe13dfe3db6",
   "metadata": {
    "tags": []
   },
   "outputs": [
    {
     "data": {
      "text/html": [
       "<div>\n",
       "<style scoped>\n",
       "    .dataframe tbody tr th:only-of-type {\n",
       "        vertical-align: middle;\n",
       "    }\n",
       "\n",
       "    .dataframe tbody tr th {\n",
       "        vertical-align: top;\n",
       "    }\n",
       "\n",
       "    .dataframe thead th {\n",
       "        text-align: right;\n",
       "    }\n",
       "</style>\n",
       "<table border=\"1\" class=\"dataframe\">\n",
       "  <thead>\n",
       "    <tr style=\"text-align: right;\">\n",
       "      <th></th>\n",
       "      <th>label</th>\n",
       "      <th>text</th>\n",
       "    </tr>\n",
       "  </thead>\n",
       "  <tbody>\n",
       "    <tr>\n",
       "      <th>0</th>\n",
       "      <td>ham</td>\n",
       "      <td>Go until jurong point, crazy.. Available only ...</td>\n",
       "    </tr>\n",
       "    <tr>\n",
       "      <th>1</th>\n",
       "      <td>ham</td>\n",
       "      <td>Ok lar... Joking wif u oni...</td>\n",
       "    </tr>\n",
       "    <tr>\n",
       "      <th>2</th>\n",
       "      <td>spam</td>\n",
       "      <td>Free entry in 2 a wkly comp to win FA Cup fina...</td>\n",
       "    </tr>\n",
       "    <tr>\n",
       "      <th>3</th>\n",
       "      <td>ham</td>\n",
       "      <td>U dun say so early hor... U c already then say...</td>\n",
       "    </tr>\n",
       "    <tr>\n",
       "      <th>4</th>\n",
       "      <td>ham</td>\n",
       "      <td>Nah I don't think he goes to usf, he lives aro...</td>\n",
       "    </tr>\n",
       "  </tbody>\n",
       "</table>\n",
       "</div>"
      ],
      "text/plain": [
       "  label                                               text\n",
       "0   ham  Go until jurong point, crazy.. Available only ...\n",
       "1   ham                      Ok lar... Joking wif u oni...\n",
       "2  spam  Free entry in 2 a wkly comp to win FA Cup fina...\n",
       "3   ham  U dun say so early hor... U c already then say...\n",
       "4   ham  Nah I don't think he goes to usf, he lives aro..."
      ]
     },
     "execution_count": 40,
     "metadata": {},
     "output_type": "execute_result"
    }
   ],
   "source": [
    "data_df.head()"
   ]
  },
  {
   "cell_type": "code",
   "execution_count": 41,
   "id": "141e9cb2-7159-4952-80f0-0ddcf50a67f9",
   "metadata": {
    "tags": []
   },
   "outputs": [
    {
     "data": {
      "text/plain": [
       "array([0, 0, 1, ..., 0, 0, 0])"
      ]
     },
     "execution_count": 41,
     "metadata": {},
     "output_type": "execute_result"
    }
   ],
   "source": [
    "labels"
   ]
  },
  {
   "cell_type": "code",
   "execution_count": 42,
   "id": "8fb977a8-e676-44ac-a95e-ad7cb96ff047",
   "metadata": {
    "tags": []
   },
   "outputs": [],
   "source": [
    "X_train, X_test, y_train, y_test = train_test_split(data_df[\"text\"],\n",
    "                                                    labels,\n",
    "                                                    test_size=0.20,\n",
    "                                                    random_state=42)"
   ]
  },
  {
   "cell_type": "code",
   "execution_count": 47,
   "id": "643ea6e7-1504-4372-b684-5a995ee04ea4",
   "metadata": {
    "tags": []
   },
   "outputs": [],
   "source": [
    "# Initializing and fitting the tokenizer\n",
    "tokenizer = Tokenizer()\n",
    "# The fit_on_texts() method is a function of the Tokenizer class that is used\n",
    "# to generate the word index based on the corpus of text.\n",
    "tokenizer.fit_on_texts(X_train)"
   ]
  },
  {
   "cell_type": "code",
   "execution_count": 48,
   "id": "9c33f721-4263-4896-878e-95d3d8bd023d",
   "metadata": {
    "tags": []
   },
   "outputs": [
    {
     "data": {
      "text/plain": [
       "7954"
      ]
     },
     "execution_count": 48,
     "metadata": {},
     "output_type": "execute_result"
    }
   ],
   "source": [
    "# index word tokenizer\n",
    "len(tokenizer.index_word)"
   ]
  },
  {
   "cell_type": "code",
   "execution_count": 49,
   "id": "8b597d3f-969e-4d83-8847-23dcf2a9201e",
   "metadata": {
    "tags": []
   },
   "outputs": [],
   "source": [
    "# Use the tokenizer to transform the text messages in the training and test sets to sequence\n",
    "x_train_seq = tokenizer.texts_to_sequences(X_train)\n",
    "x_test_seq = tokenizer.texts_to_sequences(X_test)"
   ]
  },
  {
   "cell_type": "code",
   "execution_count": 50,
   "id": "98504124-bb39-4bdf-bcd7-722efacbcd6e",
   "metadata": {
    "tags": []
   },
   "outputs": [
    {
     "data": {
      "text/plain": [
       "4457"
      ]
     },
     "execution_count": 50,
     "metadata": {},
     "output_type": "execute_result"
    }
   ],
   "source": [
    "len(x_train_seq)"
   ]
  },
  {
   "cell_type": "code",
   "execution_count": 51,
   "id": "8c9f83e2-98c0-46d7-9cf1-e06589f3f23b",
   "metadata": {
    "tags": []
   },
   "outputs": [
    {
     "data": {
      "text/plain": [
       "[38,\n",
       " 30,\n",
       " 8,\n",
       " 5,\n",
       " 273,\n",
       " 1989,\n",
       " 81,\n",
       " 116,\n",
       " 26,\n",
       " 11,\n",
       " 1656,\n",
       " 322,\n",
       " 10,\n",
       " 53,\n",
       " 18,\n",
       " 299,\n",
       " 30,\n",
       " 349,\n",
       " 1990]"
      ]
     },
     "execution_count": 51,
     "metadata": {},
     "output_type": "execute_result"
    }
   ],
   "source": [
    "# First messages sequence list\n",
    "x_train_seq[0]"
   ]
  },
  {
   "cell_type": "code",
   "execution_count": 52,
   "id": "91f3a5d9-96be-440f-83e4-3d59156f7229",
   "metadata": {
    "tags": []
   },
   "outputs": [],
   "source": [
    "# Each and every text message length might be different. This cause problem while\n",
    "# traing rrn model. Below function helps to pad the text\n",
    "x_train_seq_padded = pad_sequences(x_train_seq, 50)\n",
    "x_test_seq_padded = pad_sequences(x_test_seq, 50)"
   ]
  },
  {
   "cell_type": "code",
   "execution_count": 53,
   "id": "9e5975fb-e804-42bd-9773-83a7646cdd17",
   "metadata": {
    "tags": []
   },
   "outputs": [
    {
     "data": {
      "text/plain": [
       "array([   0,    0,    0,    0,    0,    0,    0,    0,    0,    0,    0,\n",
       "          0,    0,    0,    0,    0,    0,    0,    0,    0,    0,    0,\n",
       "          0,    0,    0,    0,    0,    0,    0,    0,    0,   38,   30,\n",
       "          8,    5,  273, 1989,   81,  116,   26,   11, 1656,  322,   10,\n",
       "         53,   18,  299,   30,  349, 1990])"
      ]
     },
     "execution_count": 53,
     "metadata": {},
     "output_type": "execute_result"
    }
   ],
   "source": [
    "x_train_seq_padded[0]"
   ]
  },
  {
   "cell_type": "markdown",
   "id": "99a15233-618f-435c-8ae0-d9f1250d45a8",
   "metadata": {},
   "source": [
    "### Model Training"
   ]
  },
  {
   "cell_type": "markdown",
   "id": "3ce6b247-f1b4-48ee-bc4d-36b1c3447c46",
   "metadata": {},
   "source": [
    "<b>keras.backend.clip(a, a_min, a_max)</b><br>\n",
    "where a is the array to be clipped, a_min is the minimum value, and a_max is the maximum value. The method returns a new array with the values of a clipped to the range between a_min and a_max. In this example, the values in the arr array that are less than 2 are set to 2, and the values greater than 4 are set to 4. The resulting array arr_clip contains the clipped values."
   ]
  },
  {
   "cell_type": "code",
   "execution_count": 54,
   "id": "e6f01a3c-9fed-4733-95b9-ec59b22c2914",
   "metadata": {},
   "outputs": [
    {
     "data": {
      "text/plain": [
       "<tf.Tensor: shape=(6,), dtype=int32, numpy=array([2, 2, 4, 4, 4, 2])>"
      ]
     },
     "execution_count": 54,
     "metadata": {},
     "output_type": "execute_result"
    }
   ],
   "source": [
    "K.clip([1, 2, 5, 5, 4, 1], 2, 4)"
   ]
  },
  {
   "cell_type": "markdown",
   "id": "ed4cb6bf-647a-483f-8846-9c467e2939ec",
   "metadata": {},
   "source": [
    "<b>keras.backend.epsilon()</b> is a function in the Keras backend module that returns a small positive constant. It is typically used in numerical computations involving division or logarithms, where a very small number is needed to prevent division by zero or taking the logarithm of zero, which can cause numerical instability.\n",
    "\n",
    "In the case of 1e-8, the e-8 part means \"times 10 to the power of negative 8\". So 1e-8 is equivalent to 0.00000001 or 1/100000000. This is a very small number that is often used as a small positive constant in numerical computations, such as in the case of keras.backend.epsilon() that we discussed earlier.\n",
    "\n",
    "Similarly, 1e-3 would be equivalent to 0.001 or 1/1000, and 1e+6 would be equivalent to 1000000 or 10^6."
   ]
  },
  {
   "cell_type": "code",
   "execution_count": 55,
   "id": "5efeabfe-2eb8-4004-a703-a10d0ae70583",
   "metadata": {
    "tags": []
   },
   "outputs": [
    {
     "name": "stdout",
     "output_type": "stream",
     "text": [
      "1e-07\n"
     ]
    }
   ],
   "source": [
    "epsilon = K.epsilon()\n",
    "print(epsilon)"
   ]
  },
  {
   "cell_type": "code",
   "execution_count": 61,
   "id": "6aa21518-e48e-48f3-9579-d6c2f504cdbc",
   "metadata": {
    "tags": []
   },
   "outputs": [],
   "source": [
    "# Model evaluation matrices\n",
    "def recall_m(y_true, y_pred):\n",
    "    \"\"\"\n",
    "    TP/(TP+FN)\n",
    "    \"\"\"\n",
    "    # one instance called true positive when it is 1 in both y_true and y_pred\n",
    "    true_positives = K.sum(K.round(K.clip(y_true * y_pred, 0, 1)))\n",
    "    possible_positives = K.sum(K.round(K.clip(y_true, 0, 1)))\n",
    "    recall = true_positives/(possible_positives + K.epsilon())\n",
    "    return recall\n",
    "\n",
    "def precision_m(y_true, y_pred):\n",
    "    true_positives = K.sum(K.round(K.clip(y_true * y_pred, 0, 1)))\n",
    "    predicted_positives = K.sum(K.round(K.clip(y_pred, 0, 1)))\n",
    "    precision = true_positives/(predicted_positives + K.epsilon())\n",
    "    return precision"
   ]
  },
  {
   "cell_type": "markdown",
   "id": "9bf1105a-168f-49df-a4af-a27973d3488a",
   "metadata": {},
   "source": [
    "In Keras, the <b>Sequential</b> model is a linear stack of layers that allows you to easily build and train deep learning models. It is a simple and convenient way to create a neural network where you can add one layer at a time, and each layer is connected to the previous one."
   ]
  },
  {
   "cell_type": "markdown",
   "id": "64f86ee7-b98d-4b1e-9808-0faa1b3ee2a0",
   "metadata": {},
   "source": [
    "In Keras, <b>Embedding</b> is a layer that is commonly used in natural language processing (NLP) tasks to convert sequences of words into dense vectors of fixed size, which can be easily fed into a neural network. The Embedding layer essentially learns a low-dimensional representation (embedding) for each word in the vocabulary, where words that are semantically similar are represented by vectors that are close together in the embedding space."
   ]
  },
  {
   "cell_type": "markdown",
   "id": "396b33c9-b35a-4d8b-b0ce-a3f2cca4ce4c",
   "metadata": {},
   "source": [
    "In Keras, a <b>dense</b> layer is a type of neural network layer where each neuron in the layer receives input from all neurons in the previous layer, and then applies a transformation to produce an output that is passed to the next layer. This is also called a fully connected layer or a feedforward layer"
   ]
  },
  {
   "cell_type": "code",
   "execution_count": 65,
   "id": "e2e9eb7e-b15c-4f82-8df3-d499a30c1210",
   "metadata": {
    "tags": []
   },
   "outputs": [
    {
     "name": "stdout",
     "output_type": "stream",
     "text": [
      "Model: \"sequential_3\"\n",
      "_________________________________________________________________\n",
      " Layer (type)                Output Shape              Param #   \n",
      "=================================================================\n",
      " embedding_3 (Embedding)     (None, None, 32)          254560    \n",
      "                                                                 \n",
      " lstm_3 (LSTM)               (None, 32)                8320      \n",
      "                                                                 \n",
      " dense_6 (Dense)             (None, 32)                1056      \n",
      "                                                                 \n",
      " dense_7 (Dense)             (None, 1)                 33        \n",
      "                                                                 \n",
      "=================================================================\n",
      "Total params: 263,969\n",
      "Trainable params: 263,969\n",
      "Non-trainable params: 0\n",
      "_________________________________________________________________\n"
     ]
    }
   ],
   "source": [
    "model = Sequential()\n",
    "# TODO: Need understand why +1 added\n",
    "model.add(Embedding(input_dim=len(tokenizer.index_word)+1, output_dim=32))\n",
    "# Look the text file in same directory for more inforamtion\n",
    "model.add(LSTM(units=32, dropout=0, recurrent_dropout=0))\n",
    "model.add(Dense(units=32, activation=\"relu\"))\n",
    "model.add(Dense(units=1, activation=\"sigmoid\"))\n",
    "model.summary()"
   ]
  },
  {
   "cell_type": "code",
   "execution_count": 66,
   "id": "a8cabe6e-288d-4ead-bc84-ae8eefeff40c",
   "metadata": {
    "tags": []
   },
   "outputs": [],
   "source": [
    "# Compile the model. To know more about the compilation refer model_compile.txt file\n",
    "model.compile(optimizer='adam',\n",
    "              loss=\"binary_crossentropy\",\n",
    "              metrics=[\"accuracy\", precision_m, recall_m])"
   ]
  },
  {
   "cell_type": "code",
   "execution_count": 67,
   "id": "13aaae71-f3bc-4b1f-85b9-a747b7cf9e7c",
   "metadata": {
    "tags": []
   },
   "outputs": [
    {
     "name": "stdout",
     "output_type": "stream",
     "text": [
      "Epoch 1/10\n",
      "140/140 [==============================] - 12s 49ms/step - loss: 0.2466 - accuracy: 0.9239 - precision_m: 0.4740 - recall_m: 0.3925 - val_loss: 0.0774 - val_accuracy: 0.9776 - val_precision_m: 0.9571 - val_recall_m: 0.8864\n",
      "Epoch 2/10\n",
      "140/140 [==============================] - 4s 28ms/step - loss: 0.0302 - accuracy: 0.9906 - precision_m: 0.9626 - recall_m: 0.9469 - val_loss: 0.0531 - val_accuracy: 0.9839 - val_precision_m: 0.9905 - val_recall_m: 0.9002\n",
      "Epoch 3/10\n",
      "140/140 [==============================] - 4s 27ms/step - loss: 0.0097 - accuracy: 0.9978 - precision_m: 0.9738 - recall_m: 0.9683 - val_loss: 0.0711 - val_accuracy: 0.9812 - val_precision_m: 0.9905 - val_recall_m: 0.8692\n",
      "Epoch 4/10\n",
      "140/140 [==============================] - 4s 28ms/step - loss: 0.0032 - accuracy: 0.9989 - precision_m: 0.9893 - recall_m: 0.9884 - val_loss: 0.0736 - val_accuracy: 0.9830 - val_precision_m: 0.9952 - val_recall_m: 0.8764\n",
      "Epoch 5/10\n",
      "140/140 [==============================] - 4s 28ms/step - loss: 4.5951e-04 - accuracy: 1.0000 - precision_m: 0.9857 - recall_m: 0.9857 - val_loss: 0.0927 - val_accuracy: 0.9830 - val_precision_m: 1.0000 - val_recall_m: 0.8692\n",
      "Epoch 6/10\n",
      "140/140 [==============================] - 4s 27ms/step - loss: 2.3824e-04 - accuracy: 1.0000 - precision_m: 1.0000 - recall_m: 1.0000 - val_loss: 0.0905 - val_accuracy: 0.9830 - val_precision_m: 0.9952 - val_recall_m: 0.8764\n",
      "Epoch 7/10\n",
      "140/140 [==============================] - 4s 27ms/step - loss: 1.4587e-04 - accuracy: 1.0000 - precision_m: 0.9857 - recall_m: 0.9857 - val_loss: 0.0973 - val_accuracy: 0.9839 - val_precision_m: 1.0000 - val_recall_m: 0.8764\n",
      "Epoch 8/10\n",
      "140/140 [==============================] - 4s 30ms/step - loss: 9.7719e-05 - accuracy: 1.0000 - precision_m: 0.9929 - recall_m: 0.9929 - val_loss: 0.0981 - val_accuracy: 0.9830 - val_precision_m: 0.9952 - val_recall_m: 0.8764\n",
      "Epoch 9/10\n",
      "140/140 [==============================] - 4s 31ms/step - loss: 7.4792e-05 - accuracy: 1.0000 - precision_m: 0.9857 - recall_m: 0.9857 - val_loss: 0.1016 - val_accuracy: 0.9830 - val_precision_m: 0.9952 - val_recall_m: 0.8764\n",
      "Epoch 10/10\n",
      "140/140 [==============================] - 4s 30ms/step - loss: 5.7094e-05 - accuracy: 1.0000 - precision_m: 0.9929 - recall_m: 0.9929 - val_loss: 0.1048 - val_accuracy: 0.9830 - val_precision_m: 0.9952 - val_recall_m: 0.8764\n"
     ]
    }
   ],
   "source": [
    "history = model.fit(x=x_train_seq_padded,\n",
    "                    y=y_train,\n",
    "                    batch_size=32, # Training data batches, each batch has 32 sample,\n",
    "                                   # It it know as iteration, in each iteration weights\n",
    "                                   # will be updated.\n",
    "                    epochs=10, # Entire training process repeated 10 times\n",
    "                    validation_data=(x_test_seq_padded, y_test))"
   ]
  },
  {
   "cell_type": "code",
   "execution_count": 79,
   "id": "2d30465f-e8df-4323-8005-9c431dfeeca8",
   "metadata": {
    "tags": []
   },
   "outputs": [
    {
     "data": {
      "image/png": "[encoded data removed]",
      "text/plain": [
       "<Figure size 640x480 with 1 Axes>"
      ]
     },
     "metadata": {},
     "output_type": "display_data"
    },
    {
     "data": {
      "image/png": "[encoded data removed]",
      "text/plain": [
       "<Figure size 640x480 with 1 Axes>"
      ]
     },
     "metadata": {},
     "output_type": "display_data"
    },
    {
     "data": {
      "image/png": "[encoded data removed]",
      "text/plain": [
       "<Figure size 640x480 with 1 Axes>"
      ]
     },
     "metadata": {},
     "output_type": "display_data"
    }
   ],
   "source": [
    "# Checking how accuracy, precision and recall changing over the epchos\n",
    "import matplotlib.pyplot as plt\n",
    "\n",
    "for i in [\"accuracy\", \"precision_m\", \"recall_m\"]:\n",
    "    acc = history.history[i]\n",
    "    val_acc = history.history[f\"val_{i}\"]\n",
    "    epochs = range(1, len(acc) + 1)\n",
    "    \n",
    "    plt.figure()\n",
    "    plt.plot(epochs, acc, label=f\"Training {i}\")\n",
    "    plt.plot(epochs, val_acc, label=f\"Validation {i}\")\n",
    "    plt.title(f\"Results for {i}\")\n",
    "    plt.legend()\n",
    "    plt.show()"
   ]
  },
  {
   "cell_type": "markdown",
   "id": "af669100-2828-4b95-af68-27fc300e0ac2",
   "metadata": {},
   "source": [
    "So from above graph we can understand that our model learned a lot around in 5 epoc itself"
   ]
  },
  {
   "cell_type": "code",
   "execution_count": null,
   "id": "120e3a82-8954-496b-8943-726e73919f50",
   "metadata": {},
   "outputs": [],
   "source": []
  }
 ],
 "metadata": {
  "kernelspec": {
   "display_name": "Python 3 (ipykernel)",
   "language": "python",
   "name": "python3"
  },
  "language_info": {
   "codemirror_mode": {
    "name": "ipython",
    "version": 3
   },
   "file_extension": ".py",
   "mimetype": "text/x-python",
   "name": "python",
   "nbconvert_exporter": "python",
   "pygments_lexer": "ipython3",
   "version": "3.11.2"
  }
 },
 "nbformat": 4,
 "nbformat_minor": 5
}
