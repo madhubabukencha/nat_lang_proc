{
 "cells": [
  {
   "cell_type": "markdown",
   "id": "b8a2ee0a-1374-4c06-9b29-9059dfc0a6a8",
   "metadata": {
    "tags": []
   },
   "source": [
    "<p style=\"color:#153462; \n",
    "          font-weight: bold; \n",
    "          font-size: 30px; \n",
    "          font-family: Gill Sans, sans-serif; \n",
    "          text-align: center;\">\n",
    "          Recurrent Neural Networks</p>"
   ]
  },
  {
   "cell_type": "markdown",
   "id": "c385fde4-926b-4902-91a6-af24f394081c",
   "metadata": {},
   "source": [
    "### Neural Network"
   ]
  },
  {
   "cell_type": "markdown",
   "id": "d232f7b4-595a-4574-bff5-c5c1682c2599",
   "metadata": {},
   "source": [
    "<p style=\"text-align: justify; text-justify: inter-word;\">\n",
    "   <font size=3>\n",
    "       A neural network follows a process of pattern matching through the connection of many very simple functions to create one powerful function. It is very loosely based on connected neurons in the brain.\n",
    "   </font>\n",
    "</p>"
   ]
  },
  {
   "cell_type": "markdown",
   "id": "7a14c650-2234-4c24-abba-6c7595014946",
   "metadata": {
    "tags": []
   },
   "source": [
    "<img src=\"images/neural_network.png\" alt=\"neural_network\" style=\"width: 600px;\"/>"
   ]
  },
  {
   "cell_type": "markdown",
   "id": "8f7751e4-c124-4144-874e-76aea6ce5676",
   "metadata": {},
   "source": [
    "<p style=\"text-align: justify; text-justify: inter-word;\">\n",
    "   <font size=3>\n",
    "       In the above image, <i>Simple Neural Network</i> is also called <i>shallow, fully connected, feed\n",
    "       forward neural network</i>.<br>\n",
    "       we will try understand each termed used in the name:<br>\n",
    "       <i>Shallow</i>: Because there is only one hidden layer <br>\n",
    "       <i>Fully Connected</i>: Each node connected to everynode in the layer on either side of it.<br>\n",
    "       <i>Feed Forward</i>: The information flow directly from the input layer to the ouput layer without\n",
    "       ever moving backword\n",
    "   </font>\n",
    "</p>"
   ]
  },
  {
   "cell_type": "markdown",
   "id": "194c9e24-1f3f-44f3-b252-a444cc2bdf8a",
   "metadata": {},
   "source": [
    "### Recurrent Neural Network"
   ]
  },
  {
   "cell_type": "markdown",
   "id": "d61c871a-1b3b-4fa1-a146-536293d28755",
   "metadata": {},
   "source": [
    "<p style=\"text-align: justify; text-justify: inter-word;\">\n",
    "   <font size=3>\n",
    "       Pattern matching through the connection of many very simple functions to create one very powerful function.\n",
    "       This function has an understanding of the data's sequential nature(Using feedback loops that form a sense \n",
    "       of memory). Below image will give the basic idea about it.\n",
    "   </font>\n",
    "</p>"
   ]
  },
  {
   "cell_type": "markdown",
   "id": "986fb94d-15ed-405f-9c15-6287de652df5",
   "metadata": {},
   "source": [
    "<img src=\"images/sequence_learning.png\" alt=\"sequence_learning\" style=\"width: 600px;\"/>"
   ]
  },
  {
   "cell_type": "markdown",
   "id": "4f025db6-e652-4445-a71c-196b1965217a",
   "metadata": {},
   "source": [
    "### Loading and Tokenizing the Data"
   ]
  },
  {
   "cell_type": "code",
   "execution_count": 3,
   "id": "d3b084b8-19cd-4497-b62b-891eb351053a",
   "metadata": {
    "tags": []
   },
   "outputs": [],
   "source": [
    "import pandas as pd\n",
    "import numpy as np\n",
    "from sklearn.model_selection import train_test_split\n",
    "from keras.preprocessing.text import Tokenizer\n",
    "from keras.utils import pad_sequences"
   ]
  },
  {
   "cell_type": "code",
   "execution_count": 6,
   "id": "36da8799-8bf7-4ed3-88dd-96f78e720c23",
   "metadata": {},
   "outputs": [],
   "source": [
    "data_df = pd.read_csv(r\"D:\\Artificial_Intelligence\\nat_lang_proc\\data\\spam.csv\", \n",
    "                          encoding=\"latin-1\")\n",
    "data_df = data_df.drop(labels=['Unnamed: 2', 'Unnamed: 3', 'Unnamed: 4'], axis=1)\n",
    "data_df.columns = [\"label\", \"text\"]\n",
    "labels = np.where(data_df[\"label\"] == \"spam\", 1, 0)"
   ]
  },
  {
   "cell_type": "code",
   "execution_count": 8,
   "id": "8fb977a8-e676-44ac-a95e-ad7cb96ff047",
   "metadata": {
    "tags": []
   },
   "outputs": [],
   "source": [
    "X_train, X_test, y_train, y_test = train_test_split(data_df[\"text\"],\n",
    "                                                    labels,\n",
    "                                                    test_size=0.20,\n",
    "                                                    random_state=42)"
   ]
  },
  {
   "cell_type": "code",
   "execution_count": 9,
   "id": "643ea6e7-1504-4372-b684-5a995ee04ea4",
   "metadata": {
    "tags": []
   },
   "outputs": [],
   "source": [
    "# Initializing and fitting the tokenizer\n",
    "tokenizer = Tokenizer()\n",
    "# It cleans and tokenizes the text and assign index to each word\n",
    "tokenizer.fit_on_texts(X_train)"
   ]
  },
  {
   "cell_type": "code",
   "execution_count": 10,
   "id": "8b597d3f-969e-4d83-8847-23dcf2a9201e",
   "metadata": {
    "tags": []
   },
   "outputs": [],
   "source": [
    "# Use the tokenizer to transform the text messages in the training and test sets to sequence\n",
    "x_train_seq = tokenizer.texts_to_sequences(X_train)\n",
    "x_test_seq = tokenizer.texts_to_sequences(X_test)"
   ]
  },
  {
   "cell_type": "code",
   "execution_count": 11,
   "id": "8c9f83e2-98c0-46d7-9cf1-e06589f3f23b",
   "metadata": {
    "tags": []
   },
   "outputs": [
    {
     "data": {
      "text/plain": [
       "[38,\n",
       " 30,\n",
       " 8,\n",
       " 5,\n",
       " 273,\n",
       " 1989,\n",
       " 81,\n",
       " 116,\n",
       " 26,\n",
       " 11,\n",
       " 1656,\n",
       " 322,\n",
       " 10,\n",
       " 53,\n",
       " 18,\n",
       " 299,\n",
       " 30,\n",
       " 349,\n",
       " 1990]"
      ]
     },
     "execution_count": 11,
     "metadata": {},
     "output_type": "execute_result"
    }
   ],
   "source": [
    "# First messages sequence list\n",
    "x_train_seq[0]"
   ]
  },
  {
   "cell_type": "code",
   "execution_count": 13,
   "id": "91f3a5d9-96be-440f-83e4-3d59156f7229",
   "metadata": {
    "tags": []
   },
   "outputs": [],
   "source": [
    "# Each and every text message length might be different. This cause problem while\n",
    "# traing rrn model. Below function helps to pad the text\n",
    "x_train_seq_padded = pad_sequences(x_train_seq, 50)\n",
    "x_test_seq_padded = pad_sequences(x_test_seq, 50)"
   ]
  },
  {
   "cell_type": "code",
   "execution_count": 14,
   "id": "9e5975fb-e804-42bd-9773-83a7646cdd17",
   "metadata": {
    "tags": []
   },
   "outputs": [
    {
     "data": {
      "text/plain": [
       "array([   0,    0,    0,    0,    0,    0,    0,    0,    0,    0,    0,\n",
       "          0,    0,    0,    0,    0,    0,    0,    0,    0,    0,    0,\n",
       "          0,    0,    0,    0,    0,    0,    0,    0,    0,   38,   30,\n",
       "          8,    5,  273, 1989,   81,  116,   26,   11, 1656,  322,   10,\n",
       "         53,   18,  299,   30,  349, 1990])"
      ]
     },
     "execution_count": 14,
     "metadata": {},
     "output_type": "execute_result"
    }
   ],
   "source": [
    "x_train_seq_padded[0]"
   ]
  },
  {
   "cell_type": "code",
   "execution_count": null,
   "id": "589e29d1-74dc-4614-8ae2-ac49002f23fa",
   "metadata": {},
   "outputs": [],
   "source": []
  }
 ],
 "metadata": {
  "kernelspec": {
   "display_name": "Python 3 (ipykernel)",
   "language": "python",
   "name": "python3"
  },
  "language_info": {
   "codemirror_mode": {
    "name": "ipython",
    "version": 3
   },
   "file_extension": ".py",
   "mimetype": "text/x-python",
   "name": "python",
   "nbconvert_exporter": "python",
   "pygments_lexer": "ipython3",
   "version": "3.11.2"
  }
 },
 "nbformat": 4,
 "nbformat_minor": 5
}
