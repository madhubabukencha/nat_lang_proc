{
 "cells": [
  {
   "cell_type": "markdown",
   "id": "dd355923-3045-49f2-83c2-9ba3f19d792a",
   "metadata": {
    "tags": []
   },
   "source": [
    "<p style=\"color:#153462; \n",
    "          font-weight: bold; \n",
    "          font-size: 30px; \n",
    "          font-family: Gill Sans, sans-serif; \n",
    "          text-align: center;\">\n",
    "          Building RF model using TF-IDF vectors</p>"
   ]
  },
  {
   "cell_type": "markdown",
   "id": "1cf8812f-4f6c-4d84-8aab-544d14365b14",
   "metadata": {},
   "source": [
    "### Importing Required Modules"
   ]
  },
  {
   "cell_type": "code",
   "execution_count": 1,
   "id": "d25c92a4-45cf-44f8-8265-57320d27a71c",
   "metadata": {
    "tags": []
   },
   "outputs": [],
   "source": [
    "import pandas as pd\n",
    "from sklearn.feature_extraction.text import TfidfVectorizer\n",
    "from sklearn.metrics import classification_report\n",
    "from sklearn.ensemble import RandomForestClassifier"
   ]
  },
  {
   "cell_type": "markdown",
   "id": "d35411ba-9759-483f-aa91-83abd731696e",
   "metadata": {},
   "source": [
    "### Reading the Data"
   ]
  },
  {
   "cell_type": "code",
   "execution_count": 7,
   "id": "a9662fe5-7540-417b-a781-089c37cbbf99",
   "metadata": {
    "tags": []
   },
   "outputs": [],
   "source": [
    "X_train = pd.read_csv(\"data/X_train.csv\")\n",
    "X_test = pd.read_csv(\"data/X_test.csv\")\n",
    "y_train = pd.read_csv(\"data/y_train.csv\")\n",
    "y_test = pd.read_csv(\"data/y_test.csv\")"
   ]
  },
  {
   "cell_type": "code",
   "execution_count": 10,
   "id": "1d32741a-56a8-4c58-97a9-7978ec0be34c",
   "metadata": {
    "tags": []
   },
   "outputs": [
    {
     "data": {
      "text/plain": [
       "0       ['nothing', 'really', 'making', 'sure', 'every...\n",
       "1       ['urgent', 'urgent', '800', 'free', 'flights',...\n",
       "2       ['cashbincouk', 'get', 'lots', 'cash', 'weeken...\n",
       "3       ['thinking', 'going', 'reg', 'pract', 'lessons...\n",
       "4        ['moji', 'informed', 'saved', 'lives', 'thanks']\n",
       "                              ...                        \n",
       "4452                                  ['good', 'evening']\n",
       "4453                    ['sorry', 'ill', 'call', 'later']\n",
       "4454    ['mind', 'blastin', 'tsunamis', 'occur', 'rajn...\n",
       "4455    ['hi', 'darlin', 'im', 'missin', 'u', 'hope', ...\n",
       "4456    ['must', 'come', 'later', 'normally', 'bathe',...\n",
       "Name: clean_text, Length: 4457, dtype: object"
      ]
     },
     "execution_count": 10,
     "metadata": {},
     "output_type": "execute_result"
    }
   ],
   "source": [
    "X_train[\"clean_text\"]"
   ]
  },
  {
   "cell_type": "markdown",
   "id": "0c0818fa-7a1c-43a0-9f63-d5f4093650d8",
   "metadata": {},
   "source": [
    "### Vectorizing the Data"
   ]
  },
  {
   "cell_type": "code",
   "execution_count": 12,
   "id": "c1bb0880-8989-49f8-8bd9-63e89e5ec7f0",
   "metadata": {
    "tags": []
   },
   "outputs": [],
   "source": [
    "tf_idf_vect = TfidfVectorizer()\n",
    "tf_idf_vect.fit(X_train[\"clean_text\"])\n",
    "X_train_vect = tf_idf_vect.transform(X_train[\"clean_text\"])\n",
    "X_test_vect = tf_idf_vect.transform(X_test[\"clean_text\"])"
   ]
  },
  {
   "cell_type": "code",
   "execution_count": 13,
   "id": "6a29ca96-f809-4b1d-9d97-e17f0bb72358",
   "metadata": {
    "tags": []
   },
   "outputs": [
    {
     "name": "stdout",
     "output_type": "stream",
     "text": [
      "nothing 5222\n",
      "really 6023\n",
      "making 4671\n",
      "sure 7089\n",
      "everybodys 2869\n",
      "speed 6815\n",
      "urgent 7700\n",
      "800 710\n",
      "free 3193\n",
      "flights 3105\n"
     ]
    }
   ],
   "source": [
    "# To see what words model learned\n",
    "count = 0\n",
    "for key, value in tf_idf_vect.vocabulary_.items():\n",
    "    if count == 10:\n",
    "        break\n",
    "    print(key, value)\n",
    "    count += 1"
   ]
  },
  {
   "cell_type": "code",
   "execution_count": 15,
   "id": "1035d535-cc16-440b-9bad-220ad7401d26",
   "metadata": {
    "tags": []
   },
   "outputs": [
    {
     "data": {
      "text/plain": [
       "<1x8236 sparse matrix of type '<class 'numpy.float64'>'\n",
       "\twith 16 stored elements in Compressed Sparse Row format>"
      ]
     },
     "execution_count": 15,
     "metadata": {},
     "output_type": "execute_result"
    }
   ],
   "source": [
    "# The data stored in sparse matrics\n",
    "X_test_vect[0]"
   ]
  },
  {
   "cell_type": "code",
   "execution_count": 16,
   "id": "7561ea2c-f50f-4c84-a5fe-f48d0fe93a44",
   "metadata": {
    "tags": []
   },
   "outputs": [
    {
     "data": {
      "text/plain": [
       "array([[0., 0., 0., ..., 0., 0., 0.]])"
      ]
     },
     "execution_count": 16,
     "metadata": {},
     "output_type": "execute_result"
    }
   ],
   "source": [
    "# To convert sparse matrix in to array\n",
    "X_test_vect[0].toarray()"
   ]
  },
  {
   "cell_type": "code",
   "execution_count": 19,
   "id": "63a99b0a-3b74-45bf-ac81-e1daa34506ce",
   "metadata": {
    "tags": []
   },
   "outputs": [
    {
     "data": {
      "text/plain": [
       "scipy.sparse._csr.csr_matrix"
      ]
     },
     "execution_count": 19,
     "metadata": {},
     "output_type": "execute_result"
    }
   ],
   "source": [
    "type(X_test_vect)"
   ]
  },
  {
   "cell_type": "markdown",
   "id": "64a00bb9-ab7f-40ad-9b25-2b0895b4e8f8",
   "metadata": {},
   "source": [
    "### Fitting the Data on Random Forest Model"
   ]
  },
  {
   "cell_type": "code",
   "execution_count": 21,
   "id": "c275f0ed-16f8-4b09-99fe-1cbe5a724643",
   "metadata": {
    "tags": []
   },
   "outputs": [],
   "source": [
    "rf = RandomForestClassifier()\n",
    "rf_model = rf.fit(X_train_vect, y_train.values.ravel())"
   ]
  },
  {
   "cell_type": "code",
   "execution_count": 23,
   "id": "d69fcf52-054d-4289-af53-fd99ad0f82cb",
   "metadata": {
    "tags": []
   },
   "outputs": [],
   "source": [
    "pred = rf_model.predict(X_test_vect)"
   ]
  },
  {
   "cell_type": "code",
   "execution_count": 25,
   "id": "c353c1a5-aeed-452e-be77-836098c860bf",
   "metadata": {
    "tags": []
   },
   "outputs": [
    {
     "name": "stdout",
     "output_type": "stream",
     "text": [
      "              precision    recall  f1-score   support\n",
      "\n",
      "           0       0.97      1.00      0.98       937\n",
      "           1       1.00      0.81      0.90       178\n",
      "\n",
      "    accuracy                           0.97      1115\n",
      "   macro avg       0.98      0.91      0.94      1115\n",
      "weighted avg       0.97      0.97      0.97      1115\n",
      "\n"
     ]
    }
   ],
   "source": [
    "print(classification_report(y_test, pred))"
   ]
  },
  {
   "cell_type": "code",
   "execution_count": null,
   "id": "97d68f80-79b4-47ad-8da3-27846694ad8c",
   "metadata": {},
   "outputs": [],
   "source": []
  }
 ],
 "metadata": {
  "kernelspec": {
   "display_name": "Python 3 (ipykernel)",
   "language": "python",
   "name": "python3"
  },
  "language_info": {
   "codemirror_mode": {
    "name": "ipython",
    "version": 3
   },
   "file_extension": ".py",
   "mimetype": "text/x-python",
   "name": "python",
   "nbconvert_exporter": "python",
   "pygments_lexer": "ipython3",
   "version": "3.11.2"
  }
 },
 "nbformat": 4,
 "nbformat_minor": 5
}
