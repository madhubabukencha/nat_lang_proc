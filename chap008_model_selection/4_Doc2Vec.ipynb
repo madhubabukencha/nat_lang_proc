{
 "cells": [
  {
   "cell_type": "markdown",
   "id": "48d13af1-2538-4119-a898-19e23a7ff59f",
   "metadata": {},
   "source": [
    "<p style=\"color:#153462; \n",
    "          font-weight: bold; \n",
    "          font-size: 30px; \n",
    "          font-family: Gill Sans, sans-serif; \n",
    "          text-align: center;\">\n",
    "          Building RF model with Doc2Vec</p>"
   ]
  },
  {
   "cell_type": "markdown",
   "id": "c9089728-034f-4860-b849-da5c18a90696",
   "metadata": {},
   "source": [
    "### Importing Required Modules"
   ]
  },
  {
   "cell_type": "code",
   "execution_count": 1,
   "id": "155104c9-6e9c-439d-878f-a313c9a1e564",
   "metadata": {
    "tags": []
   },
   "outputs": [],
   "source": [
    "import pandas as pd\n",
    "import gensim\n",
    "from sklearn.metrics import classification_report\n",
    "from sklearn.ensemble import RandomForestClassifier\n",
    "import numpy as np"
   ]
  },
  {
   "cell_type": "markdown",
   "id": "3d3307ae-3402-40eb-9c63-9c129bacfd30",
   "metadata": {},
   "source": [
    "### Reading Data"
   ]
  },
  {
   "cell_type": "code",
   "execution_count": 2,
   "id": "610e7205-38ba-4728-b030-34bcfb7a9d59",
   "metadata": {
    "tags": []
   },
   "outputs": [],
   "source": [
    "# Reading data from pickle file which preserved the list data type\n",
    "X_train = pd.read_pickle(\"data/X_train.pkl\")\n",
    "X_test = pd.read_pickle(\"data/X_test.pkl\")\n",
    "y_train = pd.read_csv(\"data/y_train.csv\")\n",
    "y_test = pd.read_csv(\"data/y_test.csv\")"
   ]
  },
  {
   "cell_type": "code",
   "execution_count": 3,
   "id": "afce426d-ab57-451b-aea5-25d98b3469b5",
   "metadata": {
    "tags": []
   },
   "outputs": [],
   "source": [
    "tagged_docs_train = [gensim.models.doc2vec.TaggedDocument(message, [tag])\n",
    "                     for tag, message in enumerate(X_train)]\n",
    "tagged_docs_test = [gensim.models.doc2vec.TaggedDocument(message, [tag])\n",
    "                     for tag, message in enumerate(X_test)]"
   ]
  },
  {
   "cell_type": "code",
   "execution_count": 5,
   "id": "aa9e8fb9-fa3c-4d78-b1d4-6df181761aa0",
   "metadata": {
    "tags": []
   },
   "outputs": [
    {
     "data": {
      "text/plain": [
       "[TaggedDocument(words=['nothing', 'really', 'making', 'sure', 'everybodys', 'speed'], tags=[0]),\n",
       " TaggedDocument(words=['urgent', 'urgent', '800', 'free', 'flights', 'europe', 'give', 'away', 'call', 'b4', '10th', 'sept', 'take', 'friend', '4', 'free', 'call', 'claim', '09050000555', 'ba128nnfwfly150ppm'], tags=[1]),\n",
       " TaggedDocument(words=['cashbincouk', 'get', 'lots', 'cash', 'weekend', 'wwwcashbincouk', 'dear', 'welcome', 'weekend', 'got', 'biggest', 'best', 'ever', 'cash', 'give', 'away'], tags=[2]),\n",
       " TaggedDocument(words=['thinking', 'going', 'reg', 'pract', 'lessons', 'flung', 'advance', 'haha', 'wat', 'time', 'u', 'going'], tags=[3]),\n",
       " TaggedDocument(words=['moji', 'informed', 'saved', 'lives', 'thanks'], tags=[4])]"
      ]
     },
     "execution_count": 5,
     "metadata": {},
     "output_type": "execute_result"
    }
   ],
   "source": [
    "tagged_docs_train[:5]"
   ]
  },
  {
   "cell_type": "markdown",
   "id": "fa933306-1179-405f-98e1-57fd7d386acb",
   "metadata": {},
   "source": [
    "### Training the Doc2Vec"
   ]
  },
  {
   "cell_type": "code",
   "execution_count": 6,
   "id": "cea36751-8a6e-4f41-bac7-c697bbe4e75f",
   "metadata": {
    "tags": []
   },
   "outputs": [],
   "source": [
    "d2v_model = gensim.models.Doc2Vec(tagged_docs_train,\n",
    "                                  vector_size=100,\n",
    "                                  window=5,\n",
    "                                  min_count=2\n",
    "                                 )"
   ]
  },
  {
   "cell_type": "code",
   "execution_count": 11,
   "id": "3840dd42-9288-4fb4-8f95-e997a24f3343",
   "metadata": {
    "tags": []
   },
   "outputs": [],
   "source": [
    "train_vectors = [d2v_model.infer_vector(v.words) for v in tagged_docs_train]"
   ]
  },
  {
   "cell_type": "code",
   "execution_count": 13,
   "id": "c9a6db15-30cb-4003-bbb3-f81178abfb7f",
   "metadata": {
    "tags": []
   },
   "outputs": [],
   "source": [
    "test_vectors = [d2v_model.infer_vector(v.words) for v in tagged_docs_test]"
   ]
  },
  {
   "cell_type": "markdown",
   "id": "90d4d24e-4dab-4e04-bd08-83d157433ae9",
   "metadata": {},
   "source": [
    "### Building Random Forest Model with Doc2Vec"
   ]
  },
  {
   "cell_type": "code",
   "execution_count": 14,
   "id": "1c626096-5096-45e5-a637-eb29431d070e",
   "metadata": {
    "tags": []
   },
   "outputs": [],
   "source": [
    "rf = RandomForestClassifier()\n",
    "rf_model = rf.fit(train_vectors, y_train.values.ravel())"
   ]
  },
  {
   "cell_type": "code",
   "execution_count": 15,
   "id": "602c455a-4588-4364-8fea-e8b0c327127d",
   "metadata": {
    "tags": []
   },
   "outputs": [],
   "source": [
    "y_pred = rf_model.predict(test_vectors)"
   ]
  },
  {
   "cell_type": "code",
   "execution_count": 16,
   "id": "688a22d3-ce80-41af-a377-e65e0980fed7",
   "metadata": {
    "tags": []
   },
   "outputs": [
    {
     "name": "stdout",
     "output_type": "stream",
     "text": [
      "              precision    recall  f1-score   support\n",
      "\n",
      "           0       0.96      1.00      0.98       976\n",
      "           1       0.97      0.73      0.84       139\n",
      "\n",
      "    accuracy                           0.96      1115\n",
      "   macro avg       0.97      0.87      0.91      1115\n",
      "weighted avg       0.96      0.96      0.96      1115\n",
      "\n"
     ]
    }
   ],
   "source": [
    "print(classification_report(y_test, y_pred))"
   ]
  },
  {
   "cell_type": "code",
   "execution_count": null,
   "id": "4efe4bf4-0327-4764-90c6-9763938e8de2",
   "metadata": {},
   "outputs": [],
   "source": []
  }
 ],
 "metadata": {
  "kernelspec": {
   "display_name": "Python 3 (ipykernel)",
   "language": "python",
   "name": "python3"
  },
  "language_info": {
   "codemirror_mode": {
    "name": "ipython",
    "version": 3
   },
   "file_extension": ".py",
   "mimetype": "text/x-python",
   "name": "python",
   "nbconvert_exporter": "python",
   "pygments_lexer": "ipython3",
   "version": "3.11.2"
  }
 },
 "nbformat": 4,
 "nbformat_minor": 5
}
